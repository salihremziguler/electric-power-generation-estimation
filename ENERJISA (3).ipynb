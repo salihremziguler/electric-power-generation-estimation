{
  "cells": [
    {
      "cell_type": "markdown",
      "metadata": {
        "id": "PE9GKVKtgqL6"
      },
      "source": [
        "Data Exploration\n"
      ]
    },
    {
      "cell_type": "markdown",
      "metadata": {
        "id": "9uoqpfOzkURH"
      },
      "source": [
        "# Data Exploration\n"
      ]
    },
    {
      "cell_type": "markdown",
      "metadata": {
        "id": "1kGR-3CrlqLM"
      },
      "source": [
        "# Yeni Bölüm"
      ]
    },
    {
      "cell_type": "code",
      "execution_count": null,
      "metadata": {
        "colab": {
          "base_uri": "https://localhost:8080/"
        },
        "id": "hhDKrnmXGGaD",
        "outputId": "768953ac-1bdb-466a-88bd-5ef609fce4ba"
      },
      "outputs": [
        {
          "output_type": "stream",
          "name": "stdout",
          "text": [
            "Looking in indexes: https://pypi.org/simple, https://us-python.pkg.dev/colab-wheels/public/simple/\n",
            "Requirement already satisfied: suntime in /usr/local/lib/python3.7/dist-packages (1.2.5)\n",
            "Requirement already satisfied: python-dateutil in /usr/local/lib/python3.7/dist-packages (from suntime) (2.8.2)\n",
            "Requirement already satisfied: six>=1.5 in /usr/local/lib/python3.7/dist-packages (from python-dateutil->suntime) (1.15.0)\n"
          ]
        }
      ],
      "source": [
        "!pip install suntime"
      ]
    },
    {
      "cell_type": "code",
      "source": [
        "!pip install flaml"
      ],
      "metadata": {
        "colab": {
          "base_uri": "https://localhost:8080/"
        },
        "id": "ZNrsm7cWu234",
        "outputId": "bb64114b-9da7-44d0-d378-d13b3e24fb81"
      },
      "execution_count": null,
      "outputs": [
        {
          "output_type": "stream",
          "name": "stdout",
          "text": [
            "Looking in indexes: https://pypi.org/simple, https://us-python.pkg.dev/colab-wheels/public/simple/\n",
            "Requirement already satisfied: flaml in /usr/local/lib/python3.7/dist-packages (1.0.12)\n",
            "Requirement already satisfied: pandas>=1.1.4 in /usr/local/lib/python3.7/dist-packages (from flaml) (1.3.5)\n",
            "Requirement already satisfied: NumPy>=1.17.0rc1 in /usr/local/lib/python3.7/dist-packages (from flaml) (1.21.6)\n",
            "Requirement already satisfied: lightgbm>=2.3.1 in /usr/local/lib/python3.7/dist-packages (from flaml) (3.3.2)\n",
            "Requirement already satisfied: xgboost>=0.90 in /usr/local/lib/python3.7/dist-packages (from flaml) (0.90)\n",
            "Requirement already satisfied: scikit-learn>=0.24 in /usr/local/lib/python3.7/dist-packages (from flaml) (0.24.2)\n",
            "Requirement already satisfied: scipy>=1.4.1 in /usr/local/lib/python3.7/dist-packages (from flaml) (1.7.3)\n",
            "Requirement already satisfied: wheel in /usr/local/lib/python3.7/dist-packages (from lightgbm>=2.3.1->flaml) (0.37.1)\n",
            "Requirement already satisfied: python-dateutil>=2.7.3 in /usr/local/lib/python3.7/dist-packages (from pandas>=1.1.4->flaml) (2.8.2)\n",
            "Requirement already satisfied: pytz>=2017.3 in /usr/local/lib/python3.7/dist-packages (from pandas>=1.1.4->flaml) (2022.2.1)\n",
            "Requirement already satisfied: six>=1.5 in /usr/local/lib/python3.7/dist-packages (from python-dateutil>=2.7.3->pandas>=1.1.4->flaml) (1.15.0)\n",
            "Requirement already satisfied: threadpoolctl>=2.0.0 in /usr/local/lib/python3.7/dist-packages (from scikit-learn>=0.24->flaml) (3.1.0)\n",
            "Requirement already satisfied: joblib>=0.11 in /usr/local/lib/python3.7/dist-packages (from scikit-learn>=0.24->flaml) (1.1.0)\n"
          ]
        }
      ]
    },
    {
      "cell_type": "code",
      "execution_count": null,
      "metadata": {
        "id": "zhDDQ1_bg3Yz"
      },
      "outputs": [],
      "source": [
        "import pandas as pd\n",
        "import matplotlib.pyplot as plt\n",
        "import numpy as np\n",
        "import scipy.stats as spstats\n",
        "%matplotlib inline\n",
        "from sklearn.impute import KNNImputer\n",
        "from sklearn.preprocessing import MinMaxScaler\n",
        "from sklearn.impute import KNNImputer\n",
        "import seaborn as sns\n",
        "from numpy import absolute\n",
        "from pandas import read_csv\n",
        "import pytz\n",
        "from suntime import Sun\n"
      ]
    },
    {
      "cell_type": "code",
      "execution_count": null,
      "metadata": {
        "id": "gc43o3yLg6cm"
      },
      "outputs": [],
      "source": [
        "temp=pd.read_csv(\"temperature.csv\",parse_dates=[0],delimiter=\";\",decimal=\",\") \n",
        "#get date month for meaningful attributes\n",
        "gen=pd.read_csv(\"generation.csv\",parse_dates=[0],delimiter=\";\",decimal=\",\") "
      ]
    },
    {
      "cell_type": "markdown",
      "metadata": {
        "id": "r5PrP7x1g9Ez"
      },
      "source": [
        "Data Preprocessing"
      ]
    },
    {
      "cell_type": "code",
      "execution_count": null,
      "metadata": {
        "colab": {
          "base_uri": "https://localhost:8080/",
          "height": 206
        },
        "id": "DiJ6J_tdhCcy",
        "outputId": "b5d86b47-af93-4891-f9fc-2c67136cb526"
      },
      "outputs": [
        {
          "output_type": "execute_result",
          "data": {
            "text/plain": [
              "             DateTime  AirTemperature  ComfortTemperature  RelativeHumidity  \\\n",
              "0 2019-01-01 00:00:00            -1.7                -6.1              75.3   \n",
              "1 2019-01-01 01:00:00            -1.8                -5.3              75.3   \n",
              "2 2019-01-01 02:00:00            -2.0                -6.0              74.7   \n",
              "3 2019-01-01 03:00:00            -1.9                -5.9              76.4   \n",
              "4 2019-01-01 04:00:00            -2.0                -7.1              76.4   \n",
              "\n",
              "   WindSpeed  WindDirection  WWCode  EffectiveCloudCover  \n",
              "0        3.6           60.0    10.0                  6.3  \n",
              "1        2.6           70.0    10.0                  4.5  \n",
              "2        3.1           80.0    10.0                  5.5  \n",
              "3        3.1           60.0    10.0                  7.6  \n",
              "4        4.6           60.0    10.0                  6.5  "
            ],
            "text/html": [
              "\n",
              "  <div id=\"df-0b835db4-f62f-4da6-bb83-8b346ecd0c20\">\n",
              "    <div class=\"colab-df-container\">\n",
              "      <div>\n",
              "<style scoped>\n",
              "    .dataframe tbody tr th:only-of-type {\n",
              "        vertical-align: middle;\n",
              "    }\n",
              "\n",
              "    .dataframe tbody tr th {\n",
              "        vertical-align: top;\n",
              "    }\n",
              "\n",
              "    .dataframe thead th {\n",
              "        text-align: right;\n",
              "    }\n",
              "</style>\n",
              "<table border=\"1\" class=\"dataframe\">\n",
              "  <thead>\n",
              "    <tr style=\"text-align: right;\">\n",
              "      <th></th>\n",
              "      <th>DateTime</th>\n",
              "      <th>AirTemperature</th>\n",
              "      <th>ComfortTemperature</th>\n",
              "      <th>RelativeHumidity</th>\n",
              "      <th>WindSpeed</th>\n",
              "      <th>WindDirection</th>\n",
              "      <th>WWCode</th>\n",
              "      <th>EffectiveCloudCover</th>\n",
              "    </tr>\n",
              "  </thead>\n",
              "  <tbody>\n",
              "    <tr>\n",
              "      <th>0</th>\n",
              "      <td>2019-01-01 00:00:00</td>\n",
              "      <td>-1.7</td>\n",
              "      <td>-6.1</td>\n",
              "      <td>75.3</td>\n",
              "      <td>3.6</td>\n",
              "      <td>60.0</td>\n",
              "      <td>10.0</td>\n",
              "      <td>6.3</td>\n",
              "    </tr>\n",
              "    <tr>\n",
              "      <th>1</th>\n",
              "      <td>2019-01-01 01:00:00</td>\n",
              "      <td>-1.8</td>\n",
              "      <td>-5.3</td>\n",
              "      <td>75.3</td>\n",
              "      <td>2.6</td>\n",
              "      <td>70.0</td>\n",
              "      <td>10.0</td>\n",
              "      <td>4.5</td>\n",
              "    </tr>\n",
              "    <tr>\n",
              "      <th>2</th>\n",
              "      <td>2019-01-01 02:00:00</td>\n",
              "      <td>-2.0</td>\n",
              "      <td>-6.0</td>\n",
              "      <td>74.7</td>\n",
              "      <td>3.1</td>\n",
              "      <td>80.0</td>\n",
              "      <td>10.0</td>\n",
              "      <td>5.5</td>\n",
              "    </tr>\n",
              "    <tr>\n",
              "      <th>3</th>\n",
              "      <td>2019-01-01 03:00:00</td>\n",
              "      <td>-1.9</td>\n",
              "      <td>-5.9</td>\n",
              "      <td>76.4</td>\n",
              "      <td>3.1</td>\n",
              "      <td>60.0</td>\n",
              "      <td>10.0</td>\n",
              "      <td>7.6</td>\n",
              "    </tr>\n",
              "    <tr>\n",
              "      <th>4</th>\n",
              "      <td>2019-01-01 04:00:00</td>\n",
              "      <td>-2.0</td>\n",
              "      <td>-7.1</td>\n",
              "      <td>76.4</td>\n",
              "      <td>4.6</td>\n",
              "      <td>60.0</td>\n",
              "      <td>10.0</td>\n",
              "      <td>6.5</td>\n",
              "    </tr>\n",
              "  </tbody>\n",
              "</table>\n",
              "</div>\n",
              "      <button class=\"colab-df-convert\" onclick=\"convertToInteractive('df-0b835db4-f62f-4da6-bb83-8b346ecd0c20')\"\n",
              "              title=\"Convert this dataframe to an interactive table.\"\n",
              "              style=\"display:none;\">\n",
              "        \n",
              "  <svg xmlns=\"http://www.w3.org/2000/svg\" height=\"24px\"viewBox=\"0 0 24 24\"\n",
              "       width=\"24px\">\n",
              "    <path d=\"M0 0h24v24H0V0z\" fill=\"none\"/>\n",
              "    <path d=\"M18.56 5.44l.94 2.06.94-2.06 2.06-.94-2.06-.94-.94-2.06-.94 2.06-2.06.94zm-11 1L8.5 8.5l.94-2.06 2.06-.94-2.06-.94L8.5 2.5l-.94 2.06-2.06.94zm10 10l.94 2.06.94-2.06 2.06-.94-2.06-.94-.94-2.06-.94 2.06-2.06.94z\"/><path d=\"M17.41 7.96l-1.37-1.37c-.4-.4-.92-.59-1.43-.59-.52 0-1.04.2-1.43.59L10.3 9.45l-7.72 7.72c-.78.78-.78 2.05 0 2.83L4 21.41c.39.39.9.59 1.41.59.51 0 1.02-.2 1.41-.59l7.78-7.78 2.81-2.81c.8-.78.8-2.07 0-2.86zM5.41 20L4 18.59l7.72-7.72 1.47 1.35L5.41 20z\"/>\n",
              "  </svg>\n",
              "      </button>\n",
              "      \n",
              "  <style>\n",
              "    .colab-df-container {\n",
              "      display:flex;\n",
              "      flex-wrap:wrap;\n",
              "      gap: 12px;\n",
              "    }\n",
              "\n",
              "    .colab-df-convert {\n",
              "      background-color: #E8F0FE;\n",
              "      border: none;\n",
              "      border-radius: 50%;\n",
              "      cursor: pointer;\n",
              "      display: none;\n",
              "      fill: #1967D2;\n",
              "      height: 32px;\n",
              "      padding: 0 0 0 0;\n",
              "      width: 32px;\n",
              "    }\n",
              "\n",
              "    .colab-df-convert:hover {\n",
              "      background-color: #E2EBFA;\n",
              "      box-shadow: 0px 1px 2px rgba(60, 64, 67, 0.3), 0px 1px 3px 1px rgba(60, 64, 67, 0.15);\n",
              "      fill: #174EA6;\n",
              "    }\n",
              "\n",
              "    [theme=dark] .colab-df-convert {\n",
              "      background-color: #3B4455;\n",
              "      fill: #D2E3FC;\n",
              "    }\n",
              "\n",
              "    [theme=dark] .colab-df-convert:hover {\n",
              "      background-color: #434B5C;\n",
              "      box-shadow: 0px 1px 3px 1px rgba(0, 0, 0, 0.15);\n",
              "      filter: drop-shadow(0px 1px 2px rgba(0, 0, 0, 0.3));\n",
              "      fill: #FFFFFF;\n",
              "    }\n",
              "  </style>\n",
              "\n",
              "      <script>\n",
              "        const buttonEl =\n",
              "          document.querySelector('#df-0b835db4-f62f-4da6-bb83-8b346ecd0c20 button.colab-df-convert');\n",
              "        buttonEl.style.display =\n",
              "          google.colab.kernel.accessAllowed ? 'block' : 'none';\n",
              "\n",
              "        async function convertToInteractive(key) {\n",
              "          const element = document.querySelector('#df-0b835db4-f62f-4da6-bb83-8b346ecd0c20');\n",
              "          const dataTable =\n",
              "            await google.colab.kernel.invokeFunction('convertToInteractive',\n",
              "                                                     [key], {});\n",
              "          if (!dataTable) return;\n",
              "\n",
              "          const docLinkHtml = 'Like what you see? Visit the ' +\n",
              "            '<a target=\"_blank\" href=https://colab.research.google.com/notebooks/data_table.ipynb>data table notebook</a>'\n",
              "            + ' to learn more about interactive tables.';\n",
              "          element.innerHTML = '';\n",
              "          dataTable['output_type'] = 'display_data';\n",
              "          await google.colab.output.renderOutput(dataTable, element);\n",
              "          const docLink = document.createElement('div');\n",
              "          docLink.innerHTML = docLinkHtml;\n",
              "          element.appendChild(docLink);\n",
              "        }\n",
              "      </script>\n",
              "    </div>\n",
              "  </div>\n",
              "  "
            ]
          },
          "metadata": {},
          "execution_count": 5
        }
      ],
      "source": [
        "temp.head()"
      ]
    },
    {
      "cell_type": "code",
      "execution_count": null,
      "metadata": {
        "colab": {
          "base_uri": "https://localhost:8080/",
          "height": 206
        },
        "id": "gdyoZ6QF5Sde",
        "outputId": "f54fc4de-8ad5-4e22-d37b-f69a37e16765"
      },
      "outputs": [
        {
          "output_type": "execute_result",
          "data": {
            "text/plain": [
              "             DateTime  Generation\n",
              "0 2019-01-01 00:00:00    0.000000\n",
              "1 2019-01-01 01:00:00    0.000000\n",
              "2 2019-01-01 02:00:00    0.000008\n",
              "3 2019-01-01 03:00:00    0.000000\n",
              "4 2019-01-01 04:00:00    0.000008"
            ],
            "text/html": [
              "\n",
              "  <div id=\"df-14bb0bd4-8576-4102-ba34-532453169d57\">\n",
              "    <div class=\"colab-df-container\">\n",
              "      <div>\n",
              "<style scoped>\n",
              "    .dataframe tbody tr th:only-of-type {\n",
              "        vertical-align: middle;\n",
              "    }\n",
              "\n",
              "    .dataframe tbody tr th {\n",
              "        vertical-align: top;\n",
              "    }\n",
              "\n",
              "    .dataframe thead th {\n",
              "        text-align: right;\n",
              "    }\n",
              "</style>\n",
              "<table border=\"1\" class=\"dataframe\">\n",
              "  <thead>\n",
              "    <tr style=\"text-align: right;\">\n",
              "      <th></th>\n",
              "      <th>DateTime</th>\n",
              "      <th>Generation</th>\n",
              "    </tr>\n",
              "  </thead>\n",
              "  <tbody>\n",
              "    <tr>\n",
              "      <th>0</th>\n",
              "      <td>2019-01-01 00:00:00</td>\n",
              "      <td>0.000000</td>\n",
              "    </tr>\n",
              "    <tr>\n",
              "      <th>1</th>\n",
              "      <td>2019-01-01 01:00:00</td>\n",
              "      <td>0.000000</td>\n",
              "    </tr>\n",
              "    <tr>\n",
              "      <th>2</th>\n",
              "      <td>2019-01-01 02:00:00</td>\n",
              "      <td>0.000008</td>\n",
              "    </tr>\n",
              "    <tr>\n",
              "      <th>3</th>\n",
              "      <td>2019-01-01 03:00:00</td>\n",
              "      <td>0.000000</td>\n",
              "    </tr>\n",
              "    <tr>\n",
              "      <th>4</th>\n",
              "      <td>2019-01-01 04:00:00</td>\n",
              "      <td>0.000008</td>\n",
              "    </tr>\n",
              "  </tbody>\n",
              "</table>\n",
              "</div>\n",
              "      <button class=\"colab-df-convert\" onclick=\"convertToInteractive('df-14bb0bd4-8576-4102-ba34-532453169d57')\"\n",
              "              title=\"Convert this dataframe to an interactive table.\"\n",
              "              style=\"display:none;\">\n",
              "        \n",
              "  <svg xmlns=\"http://www.w3.org/2000/svg\" height=\"24px\"viewBox=\"0 0 24 24\"\n",
              "       width=\"24px\">\n",
              "    <path d=\"M0 0h24v24H0V0z\" fill=\"none\"/>\n",
              "    <path d=\"M18.56 5.44l.94 2.06.94-2.06 2.06-.94-2.06-.94-.94-2.06-.94 2.06-2.06.94zm-11 1L8.5 8.5l.94-2.06 2.06-.94-2.06-.94L8.5 2.5l-.94 2.06-2.06.94zm10 10l.94 2.06.94-2.06 2.06-.94-2.06-.94-.94-2.06-.94 2.06-2.06.94z\"/><path d=\"M17.41 7.96l-1.37-1.37c-.4-.4-.92-.59-1.43-.59-.52 0-1.04.2-1.43.59L10.3 9.45l-7.72 7.72c-.78.78-.78 2.05 0 2.83L4 21.41c.39.39.9.59 1.41.59.51 0 1.02-.2 1.41-.59l7.78-7.78 2.81-2.81c.8-.78.8-2.07 0-2.86zM5.41 20L4 18.59l7.72-7.72 1.47 1.35L5.41 20z\"/>\n",
              "  </svg>\n",
              "      </button>\n",
              "      \n",
              "  <style>\n",
              "    .colab-df-container {\n",
              "      display:flex;\n",
              "      flex-wrap:wrap;\n",
              "      gap: 12px;\n",
              "    }\n",
              "\n",
              "    .colab-df-convert {\n",
              "      background-color: #E8F0FE;\n",
              "      border: none;\n",
              "      border-radius: 50%;\n",
              "      cursor: pointer;\n",
              "      display: none;\n",
              "      fill: #1967D2;\n",
              "      height: 32px;\n",
              "      padding: 0 0 0 0;\n",
              "      width: 32px;\n",
              "    }\n",
              "\n",
              "    .colab-df-convert:hover {\n",
              "      background-color: #E2EBFA;\n",
              "      box-shadow: 0px 1px 2px rgba(60, 64, 67, 0.3), 0px 1px 3px 1px rgba(60, 64, 67, 0.15);\n",
              "      fill: #174EA6;\n",
              "    }\n",
              "\n",
              "    [theme=dark] .colab-df-convert {\n",
              "      background-color: #3B4455;\n",
              "      fill: #D2E3FC;\n",
              "    }\n",
              "\n",
              "    [theme=dark] .colab-df-convert:hover {\n",
              "      background-color: #434B5C;\n",
              "      box-shadow: 0px 1px 3px 1px rgba(0, 0, 0, 0.15);\n",
              "      filter: drop-shadow(0px 1px 2px rgba(0, 0, 0, 0.3));\n",
              "      fill: #FFFFFF;\n",
              "    }\n",
              "  </style>\n",
              "\n",
              "      <script>\n",
              "        const buttonEl =\n",
              "          document.querySelector('#df-14bb0bd4-8576-4102-ba34-532453169d57 button.colab-df-convert');\n",
              "        buttonEl.style.display =\n",
              "          google.colab.kernel.accessAllowed ? 'block' : 'none';\n",
              "\n",
              "        async function convertToInteractive(key) {\n",
              "          const element = document.querySelector('#df-14bb0bd4-8576-4102-ba34-532453169d57');\n",
              "          const dataTable =\n",
              "            await google.colab.kernel.invokeFunction('convertToInteractive',\n",
              "                                                     [key], {});\n",
              "          if (!dataTable) return;\n",
              "\n",
              "          const docLinkHtml = 'Like what you see? Visit the ' +\n",
              "            '<a target=\"_blank\" href=https://colab.research.google.com/notebooks/data_table.ipynb>data table notebook</a>'\n",
              "            + ' to learn more about interactive tables.';\n",
              "          element.innerHTML = '';\n",
              "          dataTable['output_type'] = 'display_data';\n",
              "          await google.colab.output.renderOutput(dataTable, element);\n",
              "          const docLink = document.createElement('div');\n",
              "          docLink.innerHTML = docLinkHtml;\n",
              "          element.appendChild(docLink);\n",
              "        }\n",
              "      </script>\n",
              "    </div>\n",
              "  </div>\n",
              "  "
            ]
          },
          "metadata": {},
          "execution_count": 6
        }
      ],
      "source": [
        "gen.head()"
      ]
    },
    {
      "cell_type": "code",
      "execution_count": null,
      "metadata": {
        "id": "-JJnKvNcmvAs"
      },
      "outputs": [],
      "source": [
        "df=pd.concat([temp.iloc[:25560],gen.iloc[:25560].drop(\"DateTime\",axis=1)],axis=1)"
      ]
    },
    {
      "cell_type": "code",
      "execution_count": null,
      "metadata": {
        "id": "PyxrZe-Pna7U"
      },
      "outputs": [],
      "source": [
        "def check_df(dataframe, head=5):\n",
        "    print(\"##################### Shape #####################\")\n",
        "    print(dataframe.shape)\n",
        "    print(\"##################### Types #####################\")\n",
        "    print(dataframe.dtypes)\n",
        "    print(\"##################### Head #####################\")\n",
        "    print(dataframe.head(head))\n",
        "    print(\"##################### Tail #####################\")\n",
        "    print(dataframe.tail(head))\n",
        "    print(\"##################### NA #####################\")\n",
        "    print(dataframe.isnull().sum())\n",
        "    print(\"##################### Quantiles #####################\")\n",
        "    print(dataframe.quantile([0, 0.05, 0.50, 0.95, 0.99, 1]).T)"
      ]
    },
    {
      "cell_type": "code",
      "execution_count": null,
      "metadata": {
        "colab": {
          "base_uri": "https://localhost:8080/"
        },
        "id": "rQ_6Itstncxi",
        "outputId": "c0ce3593-f13e-4b87-c750-6b9f53b3029c"
      },
      "outputs": [
        {
          "output_type": "stream",
          "name": "stdout",
          "text": [
            "##################### Shape #####################\n",
            "(25560, 9)\n",
            "##################### Types #####################\n",
            "DateTime               datetime64[ns]\n",
            "AirTemperature                float64\n",
            "ComfortTemperature            float64\n",
            "RelativeHumidity              float64\n",
            "WindSpeed                     float64\n",
            "WindDirection                 float64\n",
            "WWCode                        float64\n",
            "EffectiveCloudCover           float64\n",
            "Generation                    float64\n",
            "dtype: object\n",
            "##################### Head #####################\n",
            "             DateTime  AirTemperature  ComfortTemperature  RelativeHumidity  \\\n",
            "0 2019-01-01 00:00:00            -1.7                -6.1              75.3   \n",
            "1 2019-01-01 01:00:00            -1.8                -5.3              75.3   \n",
            "2 2019-01-01 02:00:00            -2.0                -6.0              74.7   \n",
            "3 2019-01-01 03:00:00            -1.9                -5.9              76.4   \n",
            "4 2019-01-01 04:00:00            -2.0                -7.1              76.4   \n",
            "\n",
            "   WindSpeed  WindDirection  WWCode  EffectiveCloudCover  Generation  \n",
            "0        3.6           60.0    10.0                  6.3    0.000000  \n",
            "1        2.6           70.0    10.0                  4.5    0.000000  \n",
            "2        3.1           80.0    10.0                  5.5    0.000008  \n",
            "3        3.1           60.0    10.0                  7.6    0.000000  \n",
            "4        4.6           60.0    10.0                  6.5    0.000008  \n",
            "##################### Tail #####################\n",
            "                 DateTime  AirTemperature  ComfortTemperature  \\\n",
            "25555 2021-11-30 19:00:00             7.1                 5.2   \n",
            "25556 2021-11-30 20:00:00             7.1                 5.7   \n",
            "25557 2021-11-30 21:00:00             5.8                 3.1   \n",
            "25558 2021-11-30 22:00:00             5.0                 3.3   \n",
            "25559 2021-11-30 23:00:00             5.0                 4.8   \n",
            "\n",
            "       RelativeHumidity  WindSpeed  WindDirection  WWCode  \\\n",
            "25555              76.8        3.1          220.0    25.0   \n",
            "25556              75.2        2.1          250.0    80.0   \n",
            "25557              83.4        4.1          280.0    80.0   \n",
            "25558              81.0        2.1          240.0    60.0   \n",
            "25559              85.7        1.0          210.0    60.0   \n",
            "\n",
            "       EffectiveCloudCover  Generation  \n",
            "25555                  6.0         0.0  \n",
            "25556                  6.0         0.0  \n",
            "25557                  7.0         0.0  \n",
            "25558                  6.0         0.0  \n",
            "25559                  6.0         0.0  \n",
            "##################### NA #####################\n",
            "DateTime                  0\n",
            "AirTemperature            0\n",
            "ComfortTemperature        0\n",
            "RelativeHumidity          0\n",
            "WindSpeed                 0\n",
            "WindDirection             0\n",
            "WWCode                 6254\n",
            "EffectiveCloudCover       0\n",
            "Generation                0\n",
            "dtype: int64\n",
            "##################### Quantiles #####################\n",
            "                     0.00  0.05       0.50        0.95        0.99        1.00\n",
            "AirTemperature      -13.1  -0.2  13.800000   29.300000   33.200000   39.000000\n",
            "ComfortTemperature  -19.3  -1.4  13.400000   29.000000   32.100000   37.200000\n",
            "RelativeHumidity      1.6  17.9  54.200000   88.900000   96.000000  100.000000\n",
            "WindSpeed             0.0   0.0   1.500000    4.100000    5.700000   13.400000\n",
            "WindDirection         0.0   0.0  30.000000  310.000000  360.000000  360.000000\n",
            "WWCode                0.0   0.0   3.000000   80.000000   95.000000   99.000000\n",
            "EffectiveCloudCover   0.0   0.0   2.000000    6.600000    7.600000    8.000000\n",
            "Generation            0.0   0.0   4.317082  357.418576  411.386473  456.319322\n"
          ]
        }
      ],
      "source": [
        "check_df(df)"
      ]
    },
    {
      "cell_type": "code",
      "execution_count": null,
      "metadata": {
        "colab": {
          "base_uri": "https://localhost:8080/",
          "height": 300
        },
        "id": "_VFGNUuGoWrO",
        "outputId": "9efcef2c-67c8-457d-818f-eb9402164c6a"
      },
      "outputs": [
        {
          "output_type": "execute_result",
          "data": {
            "text/plain": [
              "                       count       mean         std   min   25%        50%  \\\n",
              "AirTemperature       25560.0  14.015544    9.344895 -13.1   6.4  13.800000   \n",
              "ComfortTemperature   25560.0  13.514221    9.743065 -19.3   5.4  13.400000   \n",
              "RelativeHumidity     25560.0  53.686084   22.405899   1.6  35.7  54.200000   \n",
              "WindSpeed            25560.0   1.672966    1.358169   0.0   0.5   1.500000   \n",
              "WindDirection        25560.0  86.913028  100.825143   0.0  20.0  30.000000   \n",
              "WWCode               19306.0  12.867865   24.326202   0.0   0.0   3.000000   \n",
              "EffectiveCloudCover  25560.0   2.573795    2.487385   0.0   0.0   2.000000   \n",
              "Generation           25560.0  89.724239  126.180117   0.0   0.0   4.317082   \n",
              "\n",
              "                            75%         max  \n",
              "AirTemperature        21.200000   39.000000  \n",
              "ComfortTemperature    21.400000   37.200000  \n",
              "RelativeHumidity      71.600000  100.000000  \n",
              "WindSpeed              2.600000   13.400000  \n",
              "WindDirection        170.000000  360.000000  \n",
              "WWCode                10.000000   99.000000  \n",
              "EffectiveCloudCover    5.000000    8.000000  \n",
              "Generation           168.498464  456.319322  "
            ],
            "text/html": [
              "\n",
              "  <div id=\"df-019440e9-e56b-484b-a3c2-ae1b2c71c414\">\n",
              "    <div class=\"colab-df-container\">\n",
              "      <div>\n",
              "<style scoped>\n",
              "    .dataframe tbody tr th:only-of-type {\n",
              "        vertical-align: middle;\n",
              "    }\n",
              "\n",
              "    .dataframe tbody tr th {\n",
              "        vertical-align: top;\n",
              "    }\n",
              "\n",
              "    .dataframe thead th {\n",
              "        text-align: right;\n",
              "    }\n",
              "</style>\n",
              "<table border=\"1\" class=\"dataframe\">\n",
              "  <thead>\n",
              "    <tr style=\"text-align: right;\">\n",
              "      <th></th>\n",
              "      <th>count</th>\n",
              "      <th>mean</th>\n",
              "      <th>std</th>\n",
              "      <th>min</th>\n",
              "      <th>25%</th>\n",
              "      <th>50%</th>\n",
              "      <th>75%</th>\n",
              "      <th>max</th>\n",
              "    </tr>\n",
              "  </thead>\n",
              "  <tbody>\n",
              "    <tr>\n",
              "      <th>AirTemperature</th>\n",
              "      <td>25560.0</td>\n",
              "      <td>14.015544</td>\n",
              "      <td>9.344895</td>\n",
              "      <td>-13.1</td>\n",
              "      <td>6.4</td>\n",
              "      <td>13.800000</td>\n",
              "      <td>21.200000</td>\n",
              "      <td>39.000000</td>\n",
              "    </tr>\n",
              "    <tr>\n",
              "      <th>ComfortTemperature</th>\n",
              "      <td>25560.0</td>\n",
              "      <td>13.514221</td>\n",
              "      <td>9.743065</td>\n",
              "      <td>-19.3</td>\n",
              "      <td>5.4</td>\n",
              "      <td>13.400000</td>\n",
              "      <td>21.400000</td>\n",
              "      <td>37.200000</td>\n",
              "    </tr>\n",
              "    <tr>\n",
              "      <th>RelativeHumidity</th>\n",
              "      <td>25560.0</td>\n",
              "      <td>53.686084</td>\n",
              "      <td>22.405899</td>\n",
              "      <td>1.6</td>\n",
              "      <td>35.7</td>\n",
              "      <td>54.200000</td>\n",
              "      <td>71.600000</td>\n",
              "      <td>100.000000</td>\n",
              "    </tr>\n",
              "    <tr>\n",
              "      <th>WindSpeed</th>\n",
              "      <td>25560.0</td>\n",
              "      <td>1.672966</td>\n",
              "      <td>1.358169</td>\n",
              "      <td>0.0</td>\n",
              "      <td>0.5</td>\n",
              "      <td>1.500000</td>\n",
              "      <td>2.600000</td>\n",
              "      <td>13.400000</td>\n",
              "    </tr>\n",
              "    <tr>\n",
              "      <th>WindDirection</th>\n",
              "      <td>25560.0</td>\n",
              "      <td>86.913028</td>\n",
              "      <td>100.825143</td>\n",
              "      <td>0.0</td>\n",
              "      <td>20.0</td>\n",
              "      <td>30.000000</td>\n",
              "      <td>170.000000</td>\n",
              "      <td>360.000000</td>\n",
              "    </tr>\n",
              "    <tr>\n",
              "      <th>WWCode</th>\n",
              "      <td>19306.0</td>\n",
              "      <td>12.867865</td>\n",
              "      <td>24.326202</td>\n",
              "      <td>0.0</td>\n",
              "      <td>0.0</td>\n",
              "      <td>3.000000</td>\n",
              "      <td>10.000000</td>\n",
              "      <td>99.000000</td>\n",
              "    </tr>\n",
              "    <tr>\n",
              "      <th>EffectiveCloudCover</th>\n",
              "      <td>25560.0</td>\n",
              "      <td>2.573795</td>\n",
              "      <td>2.487385</td>\n",
              "      <td>0.0</td>\n",
              "      <td>0.0</td>\n",
              "      <td>2.000000</td>\n",
              "      <td>5.000000</td>\n",
              "      <td>8.000000</td>\n",
              "    </tr>\n",
              "    <tr>\n",
              "      <th>Generation</th>\n",
              "      <td>25560.0</td>\n",
              "      <td>89.724239</td>\n",
              "      <td>126.180117</td>\n",
              "      <td>0.0</td>\n",
              "      <td>0.0</td>\n",
              "      <td>4.317082</td>\n",
              "      <td>168.498464</td>\n",
              "      <td>456.319322</td>\n",
              "    </tr>\n",
              "  </tbody>\n",
              "</table>\n",
              "</div>\n",
              "      <button class=\"colab-df-convert\" onclick=\"convertToInteractive('df-019440e9-e56b-484b-a3c2-ae1b2c71c414')\"\n",
              "              title=\"Convert this dataframe to an interactive table.\"\n",
              "              style=\"display:none;\">\n",
              "        \n",
              "  <svg xmlns=\"http://www.w3.org/2000/svg\" height=\"24px\"viewBox=\"0 0 24 24\"\n",
              "       width=\"24px\">\n",
              "    <path d=\"M0 0h24v24H0V0z\" fill=\"none\"/>\n",
              "    <path d=\"M18.56 5.44l.94 2.06.94-2.06 2.06-.94-2.06-.94-.94-2.06-.94 2.06-2.06.94zm-11 1L8.5 8.5l.94-2.06 2.06-.94-2.06-.94L8.5 2.5l-.94 2.06-2.06.94zm10 10l.94 2.06.94-2.06 2.06-.94-2.06-.94-.94-2.06-.94 2.06-2.06.94z\"/><path d=\"M17.41 7.96l-1.37-1.37c-.4-.4-.92-.59-1.43-.59-.52 0-1.04.2-1.43.59L10.3 9.45l-7.72 7.72c-.78.78-.78 2.05 0 2.83L4 21.41c.39.39.9.59 1.41.59.51 0 1.02-.2 1.41-.59l7.78-7.78 2.81-2.81c.8-.78.8-2.07 0-2.86zM5.41 20L4 18.59l7.72-7.72 1.47 1.35L5.41 20z\"/>\n",
              "  </svg>\n",
              "      </button>\n",
              "      \n",
              "  <style>\n",
              "    .colab-df-container {\n",
              "      display:flex;\n",
              "      flex-wrap:wrap;\n",
              "      gap: 12px;\n",
              "    }\n",
              "\n",
              "    .colab-df-convert {\n",
              "      background-color: #E8F0FE;\n",
              "      border: none;\n",
              "      border-radius: 50%;\n",
              "      cursor: pointer;\n",
              "      display: none;\n",
              "      fill: #1967D2;\n",
              "      height: 32px;\n",
              "      padding: 0 0 0 0;\n",
              "      width: 32px;\n",
              "    }\n",
              "\n",
              "    .colab-df-convert:hover {\n",
              "      background-color: #E2EBFA;\n",
              "      box-shadow: 0px 1px 2px rgba(60, 64, 67, 0.3), 0px 1px 3px 1px rgba(60, 64, 67, 0.15);\n",
              "      fill: #174EA6;\n",
              "    }\n",
              "\n",
              "    [theme=dark] .colab-df-convert {\n",
              "      background-color: #3B4455;\n",
              "      fill: #D2E3FC;\n",
              "    }\n",
              "\n",
              "    [theme=dark] .colab-df-convert:hover {\n",
              "      background-color: #434B5C;\n",
              "      box-shadow: 0px 1px 3px 1px rgba(0, 0, 0, 0.15);\n",
              "      filter: drop-shadow(0px 1px 2px rgba(0, 0, 0, 0.3));\n",
              "      fill: #FFFFFF;\n",
              "    }\n",
              "  </style>\n",
              "\n",
              "      <script>\n",
              "        const buttonEl =\n",
              "          document.querySelector('#df-019440e9-e56b-484b-a3c2-ae1b2c71c414 button.colab-df-convert');\n",
              "        buttonEl.style.display =\n",
              "          google.colab.kernel.accessAllowed ? 'block' : 'none';\n",
              "\n",
              "        async function convertToInteractive(key) {\n",
              "          const element = document.querySelector('#df-019440e9-e56b-484b-a3c2-ae1b2c71c414');\n",
              "          const dataTable =\n",
              "            await google.colab.kernel.invokeFunction('convertToInteractive',\n",
              "                                                     [key], {});\n",
              "          if (!dataTable) return;\n",
              "\n",
              "          const docLinkHtml = 'Like what you see? Visit the ' +\n",
              "            '<a target=\"_blank\" href=https://colab.research.google.com/notebooks/data_table.ipynb>data table notebook</a>'\n",
              "            + ' to learn more about interactive tables.';\n",
              "          element.innerHTML = '';\n",
              "          dataTable['output_type'] = 'display_data';\n",
              "          await google.colab.output.renderOutput(dataTable, element);\n",
              "          const docLink = document.createElement('div');\n",
              "          docLink.innerHTML = docLinkHtml;\n",
              "          element.appendChild(docLink);\n",
              "        }\n",
              "      </script>\n",
              "    </div>\n",
              "  </div>\n",
              "  "
            ]
          },
          "metadata": {},
          "execution_count": 10
        }
      ],
      "source": [
        "df.describe().T"
      ]
    },
    {
      "cell_type": "code",
      "source": [],
      "metadata": {
        "id": "LApVwDlA6oze"
      },
      "execution_count": null,
      "outputs": []
    },
    {
      "cell_type": "code",
      "execution_count": null,
      "metadata": {
        "id": "h5nUMvI6skOJ"
      },
      "outputs": [],
      "source": [
        "def grab_col_names(dataframe, cat_th=10, car_th=20):\n",
        "    # cat_cols, cat_but_car\n",
        "    cat_cols = [col for col in dataframe.columns if dataframe[col].dtypes == \"O\"]\n",
        "    num_but_cat = [col for col in dataframe.columns if\n",
        "                   dataframe[col].nunique() < cat_th and dataframe[col].dtypes != \"O\"]\n",
        "    cat_but_car = [col for col in dataframe.columns if\n",
        "                   dataframe[col].nunique() > car_th and dataframe[col].dtypes == \"O\"]\n",
        "    cat_cols = cat_cols + num_but_cat\n",
        "    cat_cols = [col for col in cat_cols if col not in cat_but_car]\n",
        "\n",
        "    # num_cols\n",
        "    num_cols = [col for col in dataframe.columns if dataframe[col].dtypes != \"O\"]\n",
        "    num_cols = [col for col in num_cols if col not in num_but_cat]\n",
        "\n",
        "    print(f\"Observations: {dataframe.shape[0]}\")\n",
        "    print(f\"Variables: {dataframe.shape[1]}\")\n",
        "    print(f'cat_cols: {len(cat_cols)}')\n",
        "    print(f'num_cols: {len(num_cols)}')\n",
        "    print(f'cat_but_car: {len(cat_but_car)}')\n",
        "    print(f'num_but_cat: {len(num_but_cat)}')\n",
        "\n",
        "    return cat_cols, num_cols, cat_but_car"
      ]
    },
    {
      "cell_type": "code",
      "execution_count": null,
      "metadata": {
        "colab": {
          "base_uri": "https://localhost:8080/"
        },
        "id": "ceJlB_ZTtrXH",
        "outputId": "3518e30a-12f4-4a8c-e093-d6d10cb6d06d"
      },
      "outputs": [
        {
          "output_type": "stream",
          "name": "stdout",
          "text": [
            "Observations: 25560\n",
            "Variables: 9\n",
            "cat_cols: 0\n",
            "num_cols: 9\n",
            "cat_but_car: 0\n",
            "num_but_cat: 0\n"
          ]
        }
      ],
      "source": [
        "cat_cols, num_cols, cat_but_car = grab_col_names(df)\n",
        "\n",
        "\n",
        "num_cols=[col for col in num_cols if col not in \"DateTime\" ]"
      ]
    },
    {
      "cell_type": "code",
      "source": [
        "def num_summary(dataframe, numerical_col, plot=False):\n",
        "    quantiles = [0.05, 0.10, 0.20, 0.30, 0.40, 0.50, 0.60, 0.70, 0.80, 0.90, 0.95, 0.99]\n",
        "    print(dataframe[numerical_col].describe(quantiles).T)\n",
        "\n",
        "    if plot:\n",
        "        dataframe[numerical_col].hist(bins=20)\n",
        "        plt.xlabel(numerical_col)\n",
        "        plt.title(numerical_col)\n",
        "        plt.show(block=True)\n",
        "\n",
        "for col in num_cols:\n",
        "    num_summary(df, col, plot=True)"
      ],
      "metadata": {
        "id": "EcZGxZL56zC8",
        "outputId": "49fa45cc-cf32-4b2b-ad40-b4ab17db2b59",
        "colab": {
          "base_uri": "https://localhost:8080/",
          "height": 1000
        }
      },
      "execution_count": null,
      "outputs": [
        {
          "output_type": "stream",
          "name": "stdout",
          "text": [
            "count    25560.000000\n",
            "mean        14.015544\n",
            "std          9.344895\n",
            "min        -13.100000\n",
            "5%          -0.200000\n",
            "10%          1.800000\n",
            "20%          4.900000\n",
            "30%          7.900000\n",
            "40%         10.800000\n",
            "50%         13.800000\n",
            "60%         16.900000\n",
            "70%         19.600000\n",
            "80%         22.800000\n",
            "90%         26.900000\n",
            "95%         29.300000\n",
            "99%         33.200000\n",
            "max         39.000000\n",
            "Name: AirTemperature, dtype: float64\n"
          ]
        },
        {
          "output_type": "display_data",
          "data": {
            "text/plain": [
              "<Figure size 432x288 with 1 Axes>"
            ],
            "image/png": "[encoded data removed]"
          },
          "metadata": {
            "needs_background": "light"
          }
        },
        {
          "output_type": "stream",
          "name": "stdout",
          "text": [
            "count    25560.000000\n",
            "mean        13.514221\n",
            "std          9.743065\n",
            "min        -19.300000\n",
            "5%          -1.400000\n",
            "10%          0.700000\n",
            "20%          3.900000\n",
            "30%          7.000000\n",
            "40%         10.300000\n",
            "50%         13.400000\n",
            "60%         16.800000\n",
            "70%         19.800000\n",
            "80%         23.100000\n",
            "90%         26.700000\n",
            "95%         29.000000\n",
            "99%         32.100000\n",
            "max         37.200000\n",
            "Name: ComfortTemperature, dtype: float64\n"
          ]
        },
        {
          "output_type": "display_data",
          "data": {
            "text/plain": [
              "<Figure size 432x288 with 1 Axes>"
            ],
            "image/png": "[encoded data removed]"
          },
          "metadata": {
            "needs_background": "light"
          }
        },
        {
          "output_type": "stream",
          "name": "stdout",
          "text": [
            "count    25560.000000\n",
            "mean        53.686084\n",
            "std         22.405899\n",
            "min          1.600000\n",
            "5%          17.900000\n",
            "10%         22.900000\n",
            "20%         31.700000\n",
            "30%         39.700000\n",
            "40%         47.000000\n",
            "50%         54.200000\n",
            "60%         61.100000\n",
            "70%         68.100000\n",
            "80%         75.400000\n",
            "90%         83.710000\n",
            "95%         88.900000\n",
            "99%         96.000000\n",
            "max        100.000000\n",
            "Name: RelativeHumidity, dtype: float64\n"
          ]
        },
        {
          "output_type": "display_data",
          "data": {
            "text/plain": [
              "<Figure size 432x288 with 1 Axes>"
            ],
            "image/png": "[encoded data removed]"
          },
          "metadata": {
            "needs_background": "light"
          }
        },
        {
          "output_type": "stream",
          "name": "stdout",
          "text": [
            "count    25560.000000\n",
            "mean         1.672966\n",
            "std          1.358169\n",
            "min          0.000000\n",
            "5%           0.000000\n",
            "10%          0.500000\n",
            "20%          0.500000\n",
            "30%          0.800000\n",
            "40%          1.000000\n",
            "50%          1.500000\n",
            "60%          1.500000\n",
            "70%          2.100000\n",
            "80%          2.600000\n",
            "90%          3.600000\n",
            "95%          4.100000\n",
            "99%          5.700000\n",
            "max         13.400000\n",
            "Name: WindSpeed, dtype: float64\n"
          ]
        },
        {
          "output_type": "display_data",
          "data": {
            "text/plain": [
              "<Figure size 432x288 with 1 Axes>"
            ],
            "image/png": "[encoded data removed]"
          },
          "metadata": {
            "needs_background": "light"
          }
        },
        {
          "output_type": "stream",
          "name": "stdout",
          "text": [
            "count    25560.000000\n",
            "mean        86.913028\n",
            "std        100.825143\n",
            "min          0.000000\n",
            "5%           0.000000\n",
            "10%         10.000000\n",
            "20%         20.000000\n",
            "30%         20.000000\n",
            "40%         30.000000\n",
            "50%         30.000000\n",
            "60%         40.000000\n",
            "70%         80.000000\n",
            "80%        197.000000\n",
            "90%        240.000000\n",
            "95%        310.000000\n",
            "99%        360.000000\n",
            "max        360.000000\n",
            "Name: WindDirection, dtype: float64\n"
          ]
        },
        {
          "output_type": "display_data",
          "data": {
            "text/plain": [
              "<Figure size 432x288 with 1 Axes>"
            ],
            "image/png": "[encoded data removed]"
          },
          "metadata": {
            "needs_background": "light"
          }
        },
        {
          "output_type": "stream",
          "name": "stdout",
          "text": [
            "count    19306.000000\n",
            "mean        12.867865\n",
            "std         24.326202\n",
            "min          0.000000\n",
            "5%           0.000000\n",
            "10%          0.000000\n",
            "20%          0.000000\n",
            "30%          0.000000\n",
            "40%          2.000000\n",
            "50%          3.000000\n",
            "60%          4.000000\n",
            "70%          5.000000\n",
            "80%         10.000000\n",
            "90%         60.000000\n",
            "95%         80.000000\n",
            "99%         95.000000\n",
            "max         99.000000\n",
            "Name: WWCode, dtype: float64\n"
          ]
        },
        {
          "output_type": "display_data",
          "data": {
            "text/plain": [
              "<Figure size 432x288 with 1 Axes>"
            ],
            "image/png": "[encoded data removed]"
          },
          "metadata": {
            "needs_background": "light"
          }
        },
        {
          "output_type": "stream",
          "name": "stdout",
          "text": [
            "count    25560.000000\n",
            "mean         2.573795\n",
            "std          2.487385\n",
            "min          0.000000\n",
            "5%           0.000000\n",
            "10%          0.000000\n",
            "20%          0.000000\n",
            "30%          0.000000\n",
            "40%          0.800000\n",
            "50%          2.000000\n",
            "60%          3.000000\n",
            "70%          4.400000\n",
            "80%          5.300000\n",
            "90%          6.000000\n",
            "95%          6.600000\n",
            "99%          7.600000\n",
            "max          8.000000\n",
            "Name: EffectiveCloudCover, dtype: float64\n"
          ]
        },
        {
          "output_type": "display_data",
          "data": {
            "text/plain": [
              "<Figure size 432x288 with 1 Axes>"
            ],
            "image/png": "[encoded data removed]"
          },
          "metadata": {
            "needs_background": "light"
          }
        },
        {
          "output_type": "stream",
          "name": "stdout",
          "text": [
            "count    25560.000000\n",
            "mean        89.724239\n",
            "std        126.180117\n",
            "min          0.000000\n",
            "5%           0.000000\n",
            "10%          0.000000\n",
            "20%          0.000000\n",
            "30%          0.000008\n",
            "40%          0.004766\n",
            "50%          4.317082\n",
            "60%         45.104586\n",
            "70%        123.416827\n",
            "80%        217.159787\n",
            "90%        309.106589\n",
            "95%        357.418576\n",
            "99%        411.386473\n",
            "max        456.319322\n",
            "Name: Generation, dtype: float64\n"
          ]
        },
        {
          "output_type": "display_data",
          "data": {
            "text/plain": [
              "<Figure size 432x288 with 1 Axes>"
            ],
            "image/png": "[encoded data removed]"
          },
          "metadata": {
            "needs_background": "light"
          }
        }
      ]
    },
    {
      "cell_type": "code",
      "execution_count": null,
      "metadata": {
        "colab": {
          "base_uri": "https://localhost:8080/",
          "height": 776
        },
        "id": "BFEWGb3VuItf",
        "outputId": "275ae912-9831-4d67-fb94-4b03f20ae892"
      },
      "outputs": [
        {
          "output_type": "display_data",
          "data": {
            "text/plain": [
              "<Figure size 1296x936 with 2 Axes>"
            ],
            "image/png": "[encoded data removed]"
          },
          "metadata": {
            "needs_background": "light"
          }
        }
      ],
      "source": [
        "f, ax = plt.subplots(figsize=[18, 13])\n",
        "sns.heatmap(df[num_cols].corr(), annot=True, fmt=\".2f\", ax=ax, cmap=\"magma\")\n",
        "ax.set_title(\"Correlation Matrix\", fontsize=20)\n",
        "plt.show()\n"
      ]
    },
    {
      "cell_type": "code",
      "execution_count": null,
      "metadata": {
        "colab": {
          "base_uri": "https://localhost:8080/"
        },
        "id": "crh5dKAryQ2G",
        "outputId": "aa425013-3a4f-4918-f833-187a79b31c72"
      },
      "outputs": [
        {
          "output_type": "stream",
          "name": "stderr",
          "text": [
            "/usr/local/lib/python3.7/dist-packages/ipykernel_launcher.py:8: FutureWarning: Series.dt.weekofyear and Series.dt.week have been deprecated.  Please use Series.dt.isocalendar().week instead.\n",
            "  \n"
          ]
        }
      ],
      "source": [
        "   \n",
        "    df['hour'] = df['DateTime'].dt.hour\n",
        "    df['dayofweek'] = df['DateTime'].dt.dayofweek\n",
        "    df['quarter'] = df['DateTime'].dt.quarter\n",
        "    df['month'] = df['DateTime'].dt.month\n",
        "    df['year'] = df['DateTime'].dt.year\n",
        "    df['dayofyear'] = df['DateTime'].dt.dayofyear\n",
        "    df['dayofmonth'] = df['DateTime'].dt.day\n",
        "    df['weekofyear'] = df['DateTime'].dt.weekofyear"
      ]
    },
    {
      "cell_type": "code",
      "execution_count": null,
      "metadata": {
        "id": "-rHJSXtEu2lI"
      },
      "outputs": [],
      "source": [
        "\n",
        "\n",
        "coordinates = [40.239, 33.029] # Ankara\n",
        "\n",
        "df[\"Date\"] = df[\"DateTime\"].apply(pd.to_datetime).dt.date.apply(str)\n",
        "\n",
        "sun = Sun(coordinates[0], coordinates[1])\n",
        "tz =pytz.timezone('Europe/Istanbul')\n",
        "df[\"issun\"]= df[[\"Date\",\"hour\"]].apply(lambda x : sun.get_local_sunrise_time(pd.to_datetime(x[\"Date\"]).date(),local_time_zone=tz).hour <= x[\"hour\"] <= sun.get_local_sunset_time(pd.to_datetime(x[\"Date\"]).date(),local_time_zone=tz).hour ,axis=1)\n"
      ]
    },
    {
      "cell_type": "code",
      "execution_count": null,
      "metadata": {
        "id": "SY_IY4s2aDfO"
      },
      "outputs": [],
      "source": [
        "df['WWCode'] = df['WWCode'].fillna(0).astype(int)"
      ]
    },
    {
      "cell_type": "code",
      "execution_count": null,
      "metadata": {
        "colab": {
          "base_uri": "https://localhost:8080/",
          "height": 444
        },
        "id": "rT3hUvWpitA7",
        "outputId": "dbf4f9cb-9868-41b5-aaeb-5a246cdd6c6c"
      },
      "outputs": [
        {
          "output_type": "execute_result",
          "data": {
            "text/plain": [
              "             DateTime  AirTemperature  ComfortTemperature  RelativeHumidity  \\\n",
              "0 2019-01-01 00:00:00            -1.7                -6.1              75.3   \n",
              "1 2019-01-01 01:00:00            -1.8                -5.3              75.3   \n",
              "2 2019-01-01 02:00:00            -2.0                -6.0              74.7   \n",
              "3 2019-01-01 03:00:00            -1.9                -5.9              76.4   \n",
              "4 2019-01-01 04:00:00            -2.0                -7.1              76.4   \n",
              "\n",
              "   WindSpeed  WindDirection  WWCode  EffectiveCloudCover  Generation  hour  \\\n",
              "0        3.6           60.0      10                  6.3    0.000000     0   \n",
              "1        2.6           70.0      10                  4.5    0.000000     1   \n",
              "2        3.1           80.0      10                  5.5    0.000008     2   \n",
              "3        3.1           60.0      10                  7.6    0.000000     3   \n",
              "4        4.6           60.0      10                  6.5    0.000008     4   \n",
              "\n",
              "   dayofweek  quarter  month  year  dayofyear  dayofmonth  weekofyear  \\\n",
              "0          1        1      1  2019          1           1           1   \n",
              "1          1        1      1  2019          1           1           1   \n",
              "2          1        1      1  2019          1           1           1   \n",
              "3          1        1      1  2019          1           1           1   \n",
              "4          1        1      1  2019          1           1           1   \n",
              "\n",
              "         Date  issun  WWCode_segment  \n",
              "0  2019-01-01  False  Tornado_clouds  \n",
              "1  2019-01-01  False  Tornado_clouds  \n",
              "2  2019-01-01  False  Tornado_clouds  \n",
              "3  2019-01-01  False  Tornado_clouds  \n",
              "4  2019-01-01  False  Tornado_clouds  "
            ],
            "text/html": [
              "\n",
              "  <div id=\"df-ba4d3c3d-edcb-40f3-9293-53e316dd5428\">\n",
              "    <div class=\"colab-df-container\">\n",
              "      <div>\n",
              "<style scoped>\n",
              "    .dataframe tbody tr th:only-of-type {\n",
              "        vertical-align: middle;\n",
              "    }\n",
              "\n",
              "    .dataframe tbody tr th {\n",
              "        vertical-align: top;\n",
              "    }\n",
              "\n",
              "    .dataframe thead th {\n",
              "        text-align: right;\n",
              "    }\n",
              "</style>\n",
              "<table border=\"1\" class=\"dataframe\">\n",
              "  <thead>\n",
              "    <tr style=\"text-align: right;\">\n",
              "      <th></th>\n",
              "      <th>DateTime</th>\n",
              "      <th>AirTemperature</th>\n",
              "      <th>ComfortTemperature</th>\n",
              "      <th>RelativeHumidity</th>\n",
              "      <th>WindSpeed</th>\n",
              "      <th>WindDirection</th>\n",
              "      <th>WWCode</th>\n",
              "      <th>EffectiveCloudCover</th>\n",
              "      <th>Generation</th>\n",
              "      <th>hour</th>\n",
              "      <th>dayofweek</th>\n",
              "      <th>quarter</th>\n",
              "      <th>month</th>\n",
              "      <th>year</th>\n",
              "      <th>dayofyear</th>\n",
              "      <th>dayofmonth</th>\n",
              "      <th>weekofyear</th>\n",
              "      <th>Date</th>\n",
              "      <th>issun</th>\n",
              "      <th>WWCode_segment</th>\n",
              "    </tr>\n",
              "  </thead>\n",
              "  <tbody>\n",
              "    <tr>\n",
              "      <th>0</th>\n",
              "      <td>2019-01-01 00:00:00</td>\n",
              "      <td>-1.7</td>\n",
              "      <td>-6.1</td>\n",
              "      <td>75.3</td>\n",
              "      <td>3.6</td>\n",
              "      <td>60.0</td>\n",
              "      <td>10</td>\n",
              "      <td>6.3</td>\n",
              "      <td>0.000000</td>\n",
              "      <td>0</td>\n",
              "      <td>1</td>\n",
              "      <td>1</td>\n",
              "      <td>1</td>\n",
              "      <td>2019</td>\n",
              "      <td>1</td>\n",
              "      <td>1</td>\n",
              "      <td>1</td>\n",
              "      <td>2019-01-01</td>\n",
              "      <td>False</td>\n",
              "      <td>Tornado_clouds</td>\n",
              "    </tr>\n",
              "    <tr>\n",
              "      <th>1</th>\n",
              "      <td>2019-01-01 01:00:00</td>\n",
              "      <td>-1.8</td>\n",
              "      <td>-5.3</td>\n",
              "      <td>75.3</td>\n",
              "      <td>2.6</td>\n",
              "      <td>70.0</td>\n",
              "      <td>10</td>\n",
              "      <td>4.5</td>\n",
              "      <td>0.000000</td>\n",
              "      <td>1</td>\n",
              "      <td>1</td>\n",
              "      <td>1</td>\n",
              "      <td>1</td>\n",
              "      <td>2019</td>\n",
              "      <td>1</td>\n",
              "      <td>1</td>\n",
              "      <td>1</td>\n",
              "      <td>2019-01-01</td>\n",
              "      <td>False</td>\n",
              "      <td>Tornado_clouds</td>\n",
              "    </tr>\n",
              "    <tr>\n",
              "      <th>2</th>\n",
              "      <td>2019-01-01 02:00:00</td>\n",
              "      <td>-2.0</td>\n",
              "      <td>-6.0</td>\n",
              "      <td>74.7</td>\n",
              "      <td>3.1</td>\n",
              "      <td>80.0</td>\n",
              "      <td>10</td>\n",
              "      <td>5.5</td>\n",
              "      <td>0.000008</td>\n",
              "      <td>2</td>\n",
              "      <td>1</td>\n",
              "      <td>1</td>\n",
              "      <td>1</td>\n",
              "      <td>2019</td>\n",
              "      <td>1</td>\n",
              "      <td>1</td>\n",
              "      <td>1</td>\n",
              "      <td>2019-01-01</td>\n",
              "      <td>False</td>\n",
              "      <td>Tornado_clouds</td>\n",
              "    </tr>\n",
              "    <tr>\n",
              "      <th>3</th>\n",
              "      <td>2019-01-01 03:00:00</td>\n",
              "      <td>-1.9</td>\n",
              "      <td>-5.9</td>\n",
              "      <td>76.4</td>\n",
              "      <td>3.1</td>\n",
              "      <td>60.0</td>\n",
              "      <td>10</td>\n",
              "      <td>7.6</td>\n",
              "      <td>0.000000</td>\n",
              "      <td>3</td>\n",
              "      <td>1</td>\n",
              "      <td>1</td>\n",
              "      <td>1</td>\n",
              "      <td>2019</td>\n",
              "      <td>1</td>\n",
              "      <td>1</td>\n",
              "      <td>1</td>\n",
              "      <td>2019-01-01</td>\n",
              "      <td>False</td>\n",
              "      <td>Tornado_clouds</td>\n",
              "    </tr>\n",
              "    <tr>\n",
              "      <th>4</th>\n",
              "      <td>2019-01-01 04:00:00</td>\n",
              "      <td>-2.0</td>\n",
              "      <td>-7.1</td>\n",
              "      <td>76.4</td>\n",
              "      <td>4.6</td>\n",
              "      <td>60.0</td>\n",
              "      <td>10</td>\n",
              "      <td>6.5</td>\n",
              "      <td>0.000008</td>\n",
              "      <td>4</td>\n",
              "      <td>1</td>\n",
              "      <td>1</td>\n",
              "      <td>1</td>\n",
              "      <td>2019</td>\n",
              "      <td>1</td>\n",
              "      <td>1</td>\n",
              "      <td>1</td>\n",
              "      <td>2019-01-01</td>\n",
              "      <td>False</td>\n",
              "      <td>Tornado_clouds</td>\n",
              "    </tr>\n",
              "  </tbody>\n",
              "</table>\n",
              "</div>\n",
              "      <button class=\"colab-df-convert\" onclick=\"convertToInteractive('df-ba4d3c3d-edcb-40f3-9293-53e316dd5428')\"\n",
              "              title=\"Convert this dataframe to an interactive table.\"\n",
              "              style=\"display:none;\">\n",
              "        \n",
              "  <svg xmlns=\"http://www.w3.org/2000/svg\" height=\"24px\"viewBox=\"0 0 24 24\"\n",
              "       width=\"24px\">\n",
              "    <path d=\"M0 0h24v24H0V0z\" fill=\"none\"/>\n",
              "    <path d=\"M18.56 5.44l.94 2.06.94-2.06 2.06-.94-2.06-.94-.94-2.06-.94 2.06-2.06.94zm-11 1L8.5 8.5l.94-2.06 2.06-.94-2.06-.94L8.5 2.5l-.94 2.06-2.06.94zm10 10l.94 2.06.94-2.06 2.06-.94-2.06-.94-.94-2.06-.94 2.06-2.06.94z\"/><path d=\"M17.41 7.96l-1.37-1.37c-.4-.4-.92-.59-1.43-.59-.52 0-1.04.2-1.43.59L10.3 9.45l-7.72 7.72c-.78.78-.78 2.05 0 2.83L4 21.41c.39.39.9.59 1.41.59.51 0 1.02-.2 1.41-.59l7.78-7.78 2.81-2.81c.8-.78.8-2.07 0-2.86zM5.41 20L4 18.59l7.72-7.72 1.47 1.35L5.41 20z\"/>\n",
              "  </svg>\n",
              "      </button>\n",
              "      \n",
              "  <style>\n",
              "    .colab-df-container {\n",
              "      display:flex;\n",
              "      flex-wrap:wrap;\n",
              "      gap: 12px;\n",
              "    }\n",
              "\n",
              "    .colab-df-convert {\n",
              "      background-color: #E8F0FE;\n",
              "      border: none;\n",
              "      border-radius: 50%;\n",
              "      cursor: pointer;\n",
              "      display: none;\n",
              "      fill: #1967D2;\n",
              "      height: 32px;\n",
              "      padding: 0 0 0 0;\n",
              "      width: 32px;\n",
              "    }\n",
              "\n",
              "    .colab-df-convert:hover {\n",
              "      background-color: #E2EBFA;\n",
              "      box-shadow: 0px 1px 2px rgba(60, 64, 67, 0.3), 0px 1px 3px 1px rgba(60, 64, 67, 0.15);\n",
              "      fill: #174EA6;\n",
              "    }\n",
              "\n",
              "    [theme=dark] .colab-df-convert {\n",
              "      background-color: #3B4455;\n",
              "      fill: #D2E3FC;\n",
              "    }\n",
              "\n",
              "    [theme=dark] .colab-df-convert:hover {\n",
              "      background-color: #434B5C;\n",
              "      box-shadow: 0px 1px 3px 1px rgba(0, 0, 0, 0.15);\n",
              "      filter: drop-shadow(0px 1px 2px rgba(0, 0, 0, 0.3));\n",
              "      fill: #FFFFFF;\n",
              "    }\n",
              "  </style>\n",
              "\n",
              "      <script>\n",
              "        const buttonEl =\n",
              "          document.querySelector('#df-ba4d3c3d-edcb-40f3-9293-53e316dd5428 button.colab-df-convert');\n",
              "        buttonEl.style.display =\n",
              "          google.colab.kernel.accessAllowed ? 'block' : 'none';\n",
              "\n",
              "        async function convertToInteractive(key) {\n",
              "          const element = document.querySelector('#df-ba4d3c3d-edcb-40f3-9293-53e316dd5428');\n",
              "          const dataTable =\n",
              "            await google.colab.kernel.invokeFunction('convertToInteractive',\n",
              "                                                     [key], {});\n",
              "          if (!dataTable) return;\n",
              "\n",
              "          const docLinkHtml = 'Like what you see? Visit the ' +\n",
              "            '<a target=\"_blank\" href=https://colab.research.google.com/notebooks/data_table.ipynb>data table notebook</a>'\n",
              "            + ' to learn more about interactive tables.';\n",
              "          element.innerHTML = '';\n",
              "          dataTable['output_type'] = 'display_data';\n",
              "          await google.colab.output.renderOutput(dataTable, element);\n",
              "          const docLink = document.createElement('div');\n",
              "          docLink.innerHTML = docLinkHtml;\n",
              "          element.appendChild(docLink);\n",
              "        }\n",
              "      </script>\n",
              "    </div>\n",
              "  </div>\n",
              "  "
            ]
          },
          "metadata": {},
          "execution_count": 18
        }
      ],
      "source": [
        "df.loc[(df[\"WWCode\"] >= 0 ) & (df[\"WWCode\"] < 3 ), \"WWCode_segment\"] = \"no_cloud\"\n",
        "df.loc[(df[\"WWCode\"] > 4 ) & (df[\"WWCode\"] < 9 ), \"WWCode_segment\"] = \"Smoke_dusty\"\n",
        "df.loc[(df[\"WWCode\"] > 9 ) & (df[\"WWCode\"] < 19 ), \"WWCode_segment\"] = \"Tornado_clouds\"\n",
        "df.loc[(df[\"WWCode\"] > 19 ) & (df[\"WWCode\"] < 29 ), \"WWCode_segment\"] = \"Drizzle_rainy\"\n",
        "df.loc[(df[\"WWCode\"] > 29 ) & (df[\"WWCode\"] < 39 ), \"WWCode_segment\"] = \"Duststorm\"\n",
        "df.loc[(df[\"WWCode\"] > 39 ) & (df[\"WWCode\"] < 49 ), \"WWCode_segment\"] = \"Foggy\"\n",
        "df.loc[(df[\"WWCode\"] > 49) & (df[\"WWCode\"] < 59 ), \"WWCode_segment\"] = \"Drizzle_not_freezing\"\n",
        "df.loc[(df[\"WWCode\"] > 59 ) & (df[\"WWCode\"] < 69 ), \"WWCode_segment\"] = \"Rainy_freezing\"\n",
        "df.loc[(df[\"WWCode\"] > 69 ) & (df[\"WWCode\"] < 79 ), \"WWCode_segment\"] = \"Falling_snow\"\n",
        "df.loc[(df[\"WWCode\"] > 79 ) & (df[\"WWCode\"] < 99 ), \"WWCode_segment\"] = \"Snow_shower\"\n",
        "\n",
        "df.head(5)\n"
      ]
    },
    {
      "cell_type": "code",
      "execution_count": null,
      "metadata": {
        "id": "OHjeEbGbXJP3"
      },
      "outputs": [],
      "source": [
        "df.loc[df.month.isin([3,4,5]), \"date_season\"] = \"spring\"\n",
        "df.loc[df.month.isin([6,7,8]), \"date_season\"] = \"summer\"\n",
        "df.loc[df.month.isin([9,10,11]), \"date_season\"] = \"autumn\"\n",
        "df.loc[df.month.isin([1,2,12]), \"date_season\"] = \"winter\" #winter"
      ]
    },
    {
      "cell_type": "code",
      "execution_count": null,
      "metadata": {
        "id": "2KdS0DkwXqU3"
      },
      "outputs": [],
      "source": [
        "# rüzgar yönü\n",
        "\n",
        "df.loc[df[\"WindDirection\"] == 0, \"NEW_WIND_DIRECTION\"] = \"Yıldız\"\n",
        "df.loc[(0 < df[\"WindDirection\"]) & (df[\"WindDirection\"] < 45), \"NEW_WIND_DIRECTION\"] = \"Yıldız-Poyraz\"\n",
        "df.loc[df[\"WindDirection\"] == 45, \"NEW_WIND_DIRECTION\"] = \"Poyraz\"\n",
        "df.loc[(45 < df[\"WindDirection\"]) & (df[\"WindDirection\"] < 90), \"NEW_WIND_DIRECTION\"] = \"Poyraz-Doğu\"\n",
        "df.loc[df[\"WindDirection\"] == 90, \"NEW_WIND_DIRECTION\"] = \"Doğu\"\n",
        "df.loc[(90 < df[\"WindDirection\"]) & (df[\"WindDirection\"] < 135), \"NEW_WIND_DIRECTION\"] = \"Doğu-Keşişleme\"\n",
        "df.loc[df[\"WindDirection\"] == 135, \"NEW_WIND_DIRECTION\"] = \"Keşişleme\"\n",
        "df.loc[(135 < df[\"WindDirection\"]) & (df[\"WindDirection\"] < 180), \"NEW_WIND_DIRECTION\"] = \"Keşişleme-Kıble\"\n",
        "df.loc[df[\"WindDirection\"] == 180, \"NEW_WIND_DIRECTION\"] = \"Kıble\"\n",
        "df.loc[(180 < df[\"WindDirection\"]) & (df[\"WindDirection\"] < 225), \"NEW_WIND_DIRECTION\"] = \"Kıble-Lodos\"\n",
        "df.loc[df[\"WindDirection\"] == 225, \"NEW_WIND_DIRECTION\"] = \"Lodos\"\n",
        "df.loc[(225 < df[\"WindDirection\"]) & (df[\"WindDirection\"] < 270), \"NEW_WIND_DIRECTION\"] = \"Lodos-Batı\"\n",
        "df.loc[df[\"WindDirection\"] == 270, \"NEW_WIND_DIRECTION\"] = \"Batı\"\n",
        "df.loc[(270 < df[\"WindDirection\"]) & (df[\"WindDirection\"] < 315), \"NEW_WIND_DIRECTION\"] = \"Batı-Karayel\"\n",
        "df.loc[df[\"WindDirection\"] == 315, \"NEW_WIND_DIRECTION\"] = \"Karayel\"\n",
        "df.loc[(315 < df[\"WindDirection\"]) & (df[\"WindDirection\"] < 360), \"NEW_WIND_DIRECTION\"] = \"Karayel-Yıldız\"\n",
        "df.loc[df[\"WindDirection\"] == 360, \"NEW_WIND_DIRECTION\"] = \"Yıldız\"\n",
        "\n",
        "# rüzgar hızı\n",
        "\n",
        "df.loc[(0 <= df[\"WindSpeed\"]) & (df[\"WindSpeed\"] <= 2), \"NEW_WIND_SPEED\"] = \"calm\"\n",
        "df.loc[(2 < df[\"WindSpeed\"]) & (df[\"WindSpeed\"] <= 6), \"NEW_WIND_SPEED\"] = \"light\"\n",
        "df.loc[(6 < df[\"WindSpeed\"]) & (df[\"WindSpeed\"] <= 13), \"NEW_WIND_SPEED\"] = \"light_breeze\"\n",
        "df.loc[(13 < df[\"WindSpeed\"]) & (df[\"WindSpeed\"] <= 21), \"NEW_WIND_SPEED\"] = \"gentle_breeze\""
      ]
    },
    {
      "cell_type": "code",
      "execution_count": null,
      "metadata": {
        "id": "8DO_Yd2rXKr8"
      },
      "outputs": [],
      "source": []
    },
    {
      "cell_type": "code",
      "execution_count": null,
      "metadata": {
        "id": "_v00n4zJXiEr"
      },
      "outputs": [],
      "source": [
        "#sıcaklık\n",
        "\n",
        "df.loc[df[\"AirTemperature\"] <= -9, \"NEW_AIR_TEMPERATURE\"] = \"extreme_cold\"\n",
        "df.loc[(-9 < df[\"AirTemperature\"]) & (df[\"AirTemperature\"] <= 0), \"NEW_AIR_TEMPERATURE\"] = \"freezing\"\n",
        "df.loc[(0 < df[\"AirTemperature\"]) & (df[\"AirTemperature\"] < 7), \"NEW_AIR_TEMPERATURE\"] = \"very_cold\"\n",
        "df.loc[(7 < df[\"AirTemperature\"]) & (df[\"AirTemperature\"] < 13), \"NEW_AIR_TEMPERATURE\"] = \"cold\"\n",
        "df.loc[(13 < df[\"AirTemperature\"]) & (df[\"AirTemperature\"] < 18), \"NEW_AIR_TEMPERATURE\"] = \"cool\"\n",
        "df.loc[(18 < df[\"AirTemperature\"]) & (df[\"AirTemperature\"] < 24), \"NEW_AIR_TEMPERATURE\"] = \"comfortable \"\n",
        "df.loc[(24 < df[\"AirTemperature\"]) & (df[\"AirTemperature\"] < 29), \"NEW_AIR_TEMPERATURE\"] = \"warm\"\n",
        "df.loc[(29 < df[\"AirTemperature\"]) & (df[\"AirTemperature\"] < 35), \"NEW_AIR_TEMPERATURE\"] = \"hot\"\n",
        "df.loc[(35 < df[\"AirTemperature\"]) & (df[\"AirTemperature\"] < 40), \"NEW_AIR_TEMPERATURE\"] = \"hot\""
      ]
    },
    {
      "cell_type": "code",
      "execution_count": null,
      "metadata": {
        "colab": {
          "base_uri": "https://localhost:8080/",
          "height": 473
        },
        "id": "u6fOih5PXqsR",
        "outputId": "63d47050-9d1b-4964-9c00-78529a8a7d04"
      },
      "outputs": [
        {
          "output_type": "execute_result",
          "data": {
            "text/plain": [
              "             DateTime  AirTemperature  ComfortTemperature  RelativeHumidity  \\\n",
              "0 2019-01-01 00:00:00            -1.7                -6.1              75.3   \n",
              "1 2019-01-01 01:00:00            -1.8                -5.3              75.3   \n",
              "2 2019-01-01 02:00:00            -2.0                -6.0              74.7   \n",
              "3 2019-01-01 03:00:00            -1.9                -5.9              76.4   \n",
              "4 2019-01-01 04:00:00            -2.0                -7.1              76.4   \n",
              "\n",
              "   WindSpeed  WindDirection  WWCode  EffectiveCloudCover  Generation  hour  \\\n",
              "0        3.6           60.0      10                  6.3    0.000000     0   \n",
              "1        2.6           70.0      10                  4.5    0.000000     1   \n",
              "2        3.1           80.0      10                  5.5    0.000008     2   \n",
              "3        3.1           60.0      10                  7.6    0.000000     3   \n",
              "4        4.6           60.0      10                  6.5    0.000008     4   \n",
              "\n",
              "   ...  dayofyear  dayofmonth  weekofyear        Date  issun  WWCode_segment  \\\n",
              "0  ...          1           1           1  2019-01-01  False  Tornado_clouds   \n",
              "1  ...          1           1           1  2019-01-01  False  Tornado_clouds   \n",
              "2  ...          1           1           1  2019-01-01  False  Tornado_clouds   \n",
              "3  ...          1           1           1  2019-01-01  False  Tornado_clouds   \n",
              "4  ...          1           1           1  2019-01-01  False  Tornado_clouds   \n",
              "\n",
              "   date_season NEW_WIND_DIRECTION  NEW_WIND_SPEED NEW_AIR_TEMPERATURE  \n",
              "0       winter        Poyraz-Doğu           light            freezing  \n",
              "1       winter        Poyraz-Doğu           light            freezing  \n",
              "2       winter        Poyraz-Doğu           light            freezing  \n",
              "3       winter        Poyraz-Doğu           light            freezing  \n",
              "4       winter        Poyraz-Doğu           light            freezing  \n",
              "\n",
              "[5 rows x 24 columns]"
            ],
            "text/html": [
              "\n",
              "  <div id=\"df-a58407c5-3e2b-4064-92bf-0278570b01b8\">\n",
              "    <div class=\"colab-df-container\">\n",
              "      <div>\n",
              "<style scoped>\n",
              "    .dataframe tbody tr th:only-of-type {\n",
              "        vertical-align: middle;\n",
              "    }\n",
              "\n",
              "    .dataframe tbody tr th {\n",
              "        vertical-align: top;\n",
              "    }\n",
              "\n",
              "    .dataframe thead th {\n",
              "        text-align: right;\n",
              "    }\n",
              "</style>\n",
              "<table border=\"1\" class=\"dataframe\">\n",
              "  <thead>\n",
              "    <tr style=\"text-align: right;\">\n",
              "      <th></th>\n",
              "      <th>DateTime</th>\n",
              "      <th>AirTemperature</th>\n",
              "      <th>ComfortTemperature</th>\n",
              "      <th>RelativeHumidity</th>\n",
              "      <th>WindSpeed</th>\n",
              "      <th>WindDirection</th>\n",
              "      <th>WWCode</th>\n",
              "      <th>EffectiveCloudCover</th>\n",
              "      <th>Generation</th>\n",
              "      <th>hour</th>\n",
              "      <th>...</th>\n",
              "      <th>dayofyear</th>\n",
              "      <th>dayofmonth</th>\n",
              "      <th>weekofyear</th>\n",
              "      <th>Date</th>\n",
              "      <th>issun</th>\n",
              "      <th>WWCode_segment</th>\n",
              "      <th>date_season</th>\n",
              "      <th>NEW_WIND_DIRECTION</th>\n",
              "      <th>NEW_WIND_SPEED</th>\n",
              "      <th>NEW_AIR_TEMPERATURE</th>\n",
              "    </tr>\n",
              "  </thead>\n",
              "  <tbody>\n",
              "    <tr>\n",
              "      <th>0</th>\n",
              "      <td>2019-01-01 00:00:00</td>\n",
              "      <td>-1.7</td>\n",
              "      <td>-6.1</td>\n",
              "      <td>75.3</td>\n",
              "      <td>3.6</td>\n",
              "      <td>60.0</td>\n",
              "      <td>10</td>\n",
              "      <td>6.3</td>\n",
              "      <td>0.000000</td>\n",
              "      <td>0</td>\n",
              "      <td>...</td>\n",
              "      <td>1</td>\n",
              "      <td>1</td>\n",
              "      <td>1</td>\n",
              "      <td>2019-01-01</td>\n",
              "      <td>False</td>\n",
              "      <td>Tornado_clouds</td>\n",
              "      <td>winter</td>\n",
              "      <td>Poyraz-Doğu</td>\n",
              "      <td>light</td>\n",
              "      <td>freezing</td>\n",
              "    </tr>\n",
              "    <tr>\n",
              "      <th>1</th>\n",
              "      <td>2019-01-01 01:00:00</td>\n",
              "      <td>-1.8</td>\n",
              "      <td>-5.3</td>\n",
              "      <td>75.3</td>\n",
              "      <td>2.6</td>\n",
              "      <td>70.0</td>\n",
              "      <td>10</td>\n",
              "      <td>4.5</td>\n",
              "      <td>0.000000</td>\n",
              "      <td>1</td>\n",
              "      <td>...</td>\n",
              "      <td>1</td>\n",
              "      <td>1</td>\n",
              "      <td>1</td>\n",
              "      <td>2019-01-01</td>\n",
              "      <td>False</td>\n",
              "      <td>Tornado_clouds</td>\n",
              "      <td>winter</td>\n",
              "      <td>Poyraz-Doğu</td>\n",
              "      <td>light</td>\n",
              "      <td>freezing</td>\n",
              "    </tr>\n",
              "    <tr>\n",
              "      <th>2</th>\n",
              "      <td>2019-01-01 02:00:00</td>\n",
              "      <td>-2.0</td>\n",
              "      <td>-6.0</td>\n",
              "      <td>74.7</td>\n",
              "      <td>3.1</td>\n",
              "      <td>80.0</td>\n",
              "      <td>10</td>\n",
              "      <td>5.5</td>\n",
              "      <td>0.000008</td>\n",
              "      <td>2</td>\n",
              "      <td>...</td>\n",
              "      <td>1</td>\n",
              "      <td>1</td>\n",
              "      <td>1</td>\n",
              "      <td>2019-01-01</td>\n",
              "      <td>False</td>\n",
              "      <td>Tornado_clouds</td>\n",
              "      <td>winter</td>\n",
              "      <td>Poyraz-Doğu</td>\n",
              "      <td>light</td>\n",
              "      <td>freezing</td>\n",
              "    </tr>\n",
              "    <tr>\n",
              "      <th>3</th>\n",
              "      <td>2019-01-01 03:00:00</td>\n",
              "      <td>-1.9</td>\n",
              "      <td>-5.9</td>\n",
              "      <td>76.4</td>\n",
              "      <td>3.1</td>\n",
              "      <td>60.0</td>\n",
              "      <td>10</td>\n",
              "      <td>7.6</td>\n",
              "      <td>0.000000</td>\n",
              "      <td>3</td>\n",
              "      <td>...</td>\n",
              "      <td>1</td>\n",
              "      <td>1</td>\n",
              "      <td>1</td>\n",
              "      <td>2019-01-01</td>\n",
              "      <td>False</td>\n",
              "      <td>Tornado_clouds</td>\n",
              "      <td>winter</td>\n",
              "      <td>Poyraz-Doğu</td>\n",
              "      <td>light</td>\n",
              "      <td>freezing</td>\n",
              "    </tr>\n",
              "    <tr>\n",
              "      <th>4</th>\n",
              "      <td>2019-01-01 04:00:00</td>\n",
              "      <td>-2.0</td>\n",
              "      <td>-7.1</td>\n",
              "      <td>76.4</td>\n",
              "      <td>4.6</td>\n",
              "      <td>60.0</td>\n",
              "      <td>10</td>\n",
              "      <td>6.5</td>\n",
              "      <td>0.000008</td>\n",
              "      <td>4</td>\n",
              "      <td>...</td>\n",
              "      <td>1</td>\n",
              "      <td>1</td>\n",
              "      <td>1</td>\n",
              "      <td>2019-01-01</td>\n",
              "      <td>False</td>\n",
              "      <td>Tornado_clouds</td>\n",
              "      <td>winter</td>\n",
              "      <td>Poyraz-Doğu</td>\n",
              "      <td>light</td>\n",
              "      <td>freezing</td>\n",
              "    </tr>\n",
              "  </tbody>\n",
              "</table>\n",
              "<p>5 rows × 24 columns</p>\n",
              "</div>\n",
              "      <button class=\"colab-df-convert\" onclick=\"convertToInteractive('df-a58407c5-3e2b-4064-92bf-0278570b01b8')\"\n",
              "              title=\"Convert this dataframe to an interactive table.\"\n",
              "              style=\"display:none;\">\n",
              "        \n",
              "  <svg xmlns=\"http://www.w3.org/2000/svg\" height=\"24px\"viewBox=\"0 0 24 24\"\n",
              "       width=\"24px\">\n",
              "    <path d=\"M0 0h24v24H0V0z\" fill=\"none\"/>\n",
              "    <path d=\"M18.56 5.44l.94 2.06.94-2.06 2.06-.94-2.06-.94-.94-2.06-.94 2.06-2.06.94zm-11 1L8.5 8.5l.94-2.06 2.06-.94-2.06-.94L8.5 2.5l-.94 2.06-2.06.94zm10 10l.94 2.06.94-2.06 2.06-.94-2.06-.94-.94-2.06-.94 2.06-2.06.94z\"/><path d=\"M17.41 7.96l-1.37-1.37c-.4-.4-.92-.59-1.43-.59-.52 0-1.04.2-1.43.59L10.3 9.45l-7.72 7.72c-.78.78-.78 2.05 0 2.83L4 21.41c.39.39.9.59 1.41.59.51 0 1.02-.2 1.41-.59l7.78-7.78 2.81-2.81c.8-.78.8-2.07 0-2.86zM5.41 20L4 18.59l7.72-7.72 1.47 1.35L5.41 20z\"/>\n",
              "  </svg>\n",
              "      </button>\n",
              "      \n",
              "  <style>\n",
              "    .colab-df-container {\n",
              "      display:flex;\n",
              "      flex-wrap:wrap;\n",
              "      gap: 12px;\n",
              "    }\n",
              "\n",
              "    .colab-df-convert {\n",
              "      background-color: #E8F0FE;\n",
              "      border: none;\n",
              "      border-radius: 50%;\n",
              "      cursor: pointer;\n",
              "      display: none;\n",
              "      fill: #1967D2;\n",
              "      height: 32px;\n",
              "      padding: 0 0 0 0;\n",
              "      width: 32px;\n",
              "    }\n",
              "\n",
              "    .colab-df-convert:hover {\n",
              "      background-color: #E2EBFA;\n",
              "      box-shadow: 0px 1px 2px rgba(60, 64, 67, 0.3), 0px 1px 3px 1px rgba(60, 64, 67, 0.15);\n",
              "      fill: #174EA6;\n",
              "    }\n",
              "\n",
              "    [theme=dark] .colab-df-convert {\n",
              "      background-color: #3B4455;\n",
              "      fill: #D2E3FC;\n",
              "    }\n",
              "\n",
              "    [theme=dark] .colab-df-convert:hover {\n",
              "      background-color: #434B5C;\n",
              "      box-shadow: 0px 1px 3px 1px rgba(0, 0, 0, 0.15);\n",
              "      filter: drop-shadow(0px 1px 2px rgba(0, 0, 0, 0.3));\n",
              "      fill: #FFFFFF;\n",
              "    }\n",
              "  </style>\n",
              "\n",
              "      <script>\n",
              "        const buttonEl =\n",
              "          document.querySelector('#df-a58407c5-3e2b-4064-92bf-0278570b01b8 button.colab-df-convert');\n",
              "        buttonEl.style.display =\n",
              "          google.colab.kernel.accessAllowed ? 'block' : 'none';\n",
              "\n",
              "        async function convertToInteractive(key) {\n",
              "          const element = document.querySelector('#df-a58407c5-3e2b-4064-92bf-0278570b01b8');\n",
              "          const dataTable =\n",
              "            await google.colab.kernel.invokeFunction('convertToInteractive',\n",
              "                                                     [key], {});\n",
              "          if (!dataTable) return;\n",
              "\n",
              "          const docLinkHtml = 'Like what you see? Visit the ' +\n",
              "            '<a target=\"_blank\" href=https://colab.research.google.com/notebooks/data_table.ipynb>data table notebook</a>'\n",
              "            + ' to learn more about interactive tables.';\n",
              "          element.innerHTML = '';\n",
              "          dataTable['output_type'] = 'display_data';\n",
              "          await google.colab.output.renderOutput(dataTable, element);\n",
              "          const docLink = document.createElement('div');\n",
              "          docLink.innerHTML = docLinkHtml;\n",
              "          element.appendChild(docLink);\n",
              "        }\n",
              "      </script>\n",
              "    </div>\n",
              "  </div>\n",
              "  "
            ]
          },
          "metadata": {},
          "execution_count": 23
        }
      ],
      "source": [
        "df.head()"
      ]
    },
    {
      "cell_type": "code",
      "execution_count": null,
      "metadata": {
        "id": "meCg0wGUxtZR"
      },
      "outputs": [],
      "source": [
        "def grab_col_names(dataframe, cat_th=10, car_th=20):\n",
        "    # cat_cols, cat_but_car\n",
        "    cat_cols = [col for col in dataframe.columns if dataframe[col].dtypes == \"O\"]\n",
        "    num_but_cat = [col for col in dataframe.columns if\n",
        "                   dataframe[col].nunique() < cat_th and dataframe[col].dtypes != \"O\"]\n",
        "    cat_but_car = [col for col in dataframe.columns if\n",
        "                   dataframe[col].nunique() > car_th and dataframe[col].dtypes == \"O\"]\n",
        "    cat_cols = cat_cols + num_but_cat\n",
        "    cat_cols = [col for col in cat_cols if col not in cat_but_car]\n",
        "\n",
        "    # num_cols\n",
        "    num_cols = [col for col in dataframe.columns if dataframe[col].dtypes != \"O\"]\n",
        "    num_cols = [col for col in num_cols if col not in num_but_cat]\n",
        "\n",
        "    print(f\"Observations: {dataframe.shape[0]}\")\n",
        "    print(f\"Variables: {dataframe.shape[1]}\")\n",
        "    print(f'cat_cols: {len(cat_cols)}')\n",
        "    print(f'num_cols: {len(num_cols)}')\n",
        "    print(f'cat_but_car: {len(cat_but_car)}')\n",
        "    print(f'num_but_cat: {len(num_but_cat)}')\n",
        "\n",
        "    return cat_cols, num_cols, cat_but_car"
      ]
    },
    {
      "cell_type": "code",
      "execution_count": null,
      "metadata": {
        "colab": {
          "base_uri": "https://localhost:8080/"
        },
        "id": "cZwmuDVszcVf",
        "outputId": "9eb8e962-17ac-47a2-9118-9685c13f5c00"
      },
      "outputs": [
        {
          "output_type": "stream",
          "name": "stdout",
          "text": [
            "Observations: 25560\n",
            "Variables: 24\n",
            "cat_cols: 9\n",
            "num_cols: 14\n",
            "cat_but_car: 1\n",
            "num_but_cat: 4\n"
          ]
        }
      ],
      "source": [
        "cat_cols, num_cols, cat_but_car = grab_col_names(df)\n",
        "\n",
        "\n",
        "num_cols=[col for col in num_cols if col not in \"DateTime\" ]"
      ]
    },
    {
      "cell_type": "code",
      "execution_count": null,
      "metadata": {
        "id": "no4WGdqWzs7g"
      },
      "outputs": [],
      "source": [
        "def one_hot_encoder(dataframe, categorical_cols, drop_first=False):\n",
        "    dataframe = pd.get_dummies(dataframe, columns=categorical_cols, drop_first=drop_first)\n",
        "    return dataframe\n"
      ]
    },
    {
      "cell_type": "code",
      "execution_count": null,
      "metadata": {
        "id": "uFzJus5mz7iu"
      },
      "outputs": [],
      "source": [
        "df=one_hot_encoder(df,cat_cols)"
      ]
    },
    {
      "cell_type": "code",
      "execution_count": null,
      "metadata": {
        "id": "ESTBj6lM2ohF"
      },
      "outputs": [],
      "source": []
    },
    {
      "cell_type": "code",
      "execution_count": null,
      "metadata": {
        "id": "PP69w_Ly1iot"
      },
      "outputs": [],
      "source": [
        "#Outlier Detection\n"
      ]
    },
    {
      "cell_type": "code",
      "execution_count": null,
      "metadata": {
        "colab": {
          "base_uri": "https://localhost:8080/",
          "height": 1000
        },
        "id": "U6paxenv2izX",
        "outputId": "23160ecf-9c5d-4467-8765-28aed875213a"
      },
      "outputs": [
        {
          "output_type": "stream",
          "name": "stderr",
          "text": [
            "/usr/local/lib/python3.7/dist-packages/seaborn/_core.py:1326: UserWarning: Vertical orientation ignored with only `x` specified.\n",
            "  warnings.warn(single_var_warning.format(\"Vertical\", \"x\"))\n",
            "/usr/local/lib/python3.7/dist-packages/seaborn/_core.py:1326: UserWarning: Vertical orientation ignored with only `x` specified.\n",
            "  warnings.warn(single_var_warning.format(\"Vertical\", \"x\"))\n",
            "/usr/local/lib/python3.7/dist-packages/seaborn/_core.py:1326: UserWarning: Vertical orientation ignored with only `x` specified.\n",
            "  warnings.warn(single_var_warning.format(\"Vertical\", \"x\"))\n",
            "/usr/local/lib/python3.7/dist-packages/seaborn/_core.py:1326: UserWarning: Vertical orientation ignored with only `x` specified.\n",
            "  warnings.warn(single_var_warning.format(\"Vertical\", \"x\"))\n",
            "/usr/local/lib/python3.7/dist-packages/seaborn/_core.py:1326: UserWarning: Vertical orientation ignored with only `x` specified.\n",
            "  warnings.warn(single_var_warning.format(\"Vertical\", \"x\"))\n",
            "/usr/local/lib/python3.7/dist-packages/seaborn/_core.py:1326: UserWarning: Vertical orientation ignored with only `x` specified.\n",
            "  warnings.warn(single_var_warning.format(\"Vertical\", \"x\"))\n",
            "/usr/local/lib/python3.7/dist-packages/seaborn/_core.py:1326: UserWarning: Vertical orientation ignored with only `x` specified.\n",
            "  warnings.warn(single_var_warning.format(\"Vertical\", \"x\"))\n",
            "/usr/local/lib/python3.7/dist-packages/seaborn/_core.py:1326: UserWarning: Vertical orientation ignored with only `x` specified.\n",
            "  warnings.warn(single_var_warning.format(\"Vertical\", \"x\"))\n",
            "/usr/local/lib/python3.7/dist-packages/seaborn/_core.py:1326: UserWarning: Vertical orientation ignored with only `x` specified.\n",
            "  warnings.warn(single_var_warning.format(\"Vertical\", \"x\"))\n",
            "/usr/local/lib/python3.7/dist-packages/seaborn/_core.py:1326: UserWarning: Vertical orientation ignored with only `x` specified.\n",
            "  warnings.warn(single_var_warning.format(\"Vertical\", \"x\"))\n",
            "/usr/local/lib/python3.7/dist-packages/seaborn/_core.py:1326: UserWarning: Vertical orientation ignored with only `x` specified.\n",
            "  warnings.warn(single_var_warning.format(\"Vertical\", \"x\"))\n",
            "/usr/local/lib/python3.7/dist-packages/seaborn/_core.py:1326: UserWarning: Vertical orientation ignored with only `x` specified.\n",
            "  warnings.warn(single_var_warning.format(\"Vertical\", \"x\"))\n",
            "/usr/local/lib/python3.7/dist-packages/seaborn/_core.py:1326: UserWarning: Vertical orientation ignored with only `x` specified.\n",
            "  warnings.warn(single_var_warning.format(\"Vertical\", \"x\"))\n"
          ]
        },
        {
          "output_type": "display_data",
          "data": {
            "text/plain": [
              "<Figure size 1080x360 with 1 Axes>"
            ],
            "image/png": "[encoded data removed]"
          },
          "metadata": {
            "needs_background": "light"
          }
        },
        {
          "output_type": "display_data",
          "data": {
            "text/plain": [
              "<Figure size 1080x360 with 1 Axes>"
            ],
            "image/png": "[encoded data removed]"
          },
          "metadata": {
            "needs_background": "light"
          }
        },
        {
          "output_type": "display_data",
          "data": {
            "text/plain": [
              "<Figure size 1080x360 with 1 Axes>"
            ],
            "image/png": "[encoded data removed]"
          },
          "metadata": {
            "needs_background": "light"
          }
        },
        {
          "output_type": "display_data",
          "data": {
            "text/plain": [
              "<Figure size 1080x360 with 1 Axes>"
            ],
            "image/png": "[encoded data removed]"
          },
          "metadata": {
            "needs_background": "light"
          }
        },
        {
          "output_type": "display_data",
          "data": {
            "text/plain": [
              "<Figure size 1080x360 with 1 Axes>"
            ],
            "image/png": "[encoded data removed]"
          },
          "metadata": {
            "needs_background": "light"
          }
        },
        {
          "output_type": "display_data",
          "data": {
            "text/plain": [
              "<Figure size 1080x360 with 1 Axes>"
            ],
            "image/png": "[encoded data removed]"
          },
          "metadata": {
            "needs_background": "light"
          }
        },
        {
          "output_type": "display_data",
          "data": {
            "text/plain": [
              "<Figure size 1080x360 with 1 Axes>"
            ],
            "image/png": "[encoded data removed]"
          },
          "metadata": {
            "needs_background": "light"
          }
        },
        {
          "output_type": "display_data",
          "data": {
            "text/plain": [
              "<Figure size 1080x360 with 1 Axes>"
            ],
            "image/png": "[encoded data removed]"
          },
          "metadata": {
            "needs_background": "light"
          }
        },
        {
          "output_type": "display_data",
          "data": {
            "text/plain": [
              "<Figure size 1080x360 with 1 Axes>"
            ],
            "image/png": "[encoded data removed]"
          },
          "metadata": {
            "needs_background": "light"
          }
        },
        {
          "output_type": "display_data",
          "data": {
            "text/plain": [
              "<Figure size 1080x360 with 1 Axes>"
            ],
            "image/png": "[encoded data removed]"
          },
          "metadata": {
            "needs_background": "light"
          }
        },
        {
          "output_type": "display_data",
          "data": {
            "text/plain": [
              "<Figure size 1080x360 with 1 Axes>"
            ],
            "image/png": "[encoded data removed]"
          },
          "metadata": {
            "needs_background": "light"
          }
        },
        {
          "output_type": "display_data",
          "data": {
            "text/plain": [
              "<Figure size 1080x360 with 1 Axes>"
            ],
            "image/png": "[encoded data removed]"
          },
          "metadata": {
            "needs_background": "light"
          }
        },
        {
          "output_type": "display_data",
          "data": {
            "text/plain": [
              "<Figure size 1080x360 with 1 Axes>"
            ],
            "image/png": "[encoded data removed]"
          },
          "metadata": {
            "needs_background": "light"
          }
        }
      ],
      "source": [
        "for i in num_cols:\n",
        "    plt.figure(figsize=(15,5))\n",
        "    sns.boxplot(x = i, data = df, orient = \"v\")"
      ]
    },
    {
      "cell_type": "code",
      "execution_count": null,
      "metadata": {
        "id": "HORYysl95MF7"
      },
      "outputs": [],
      "source": [
        "df_copy=df.copy()\n",
        "df_copy.drop(['DateTime',\"Date\"],axis=1,inplace=True)"
      ]
    },
    {
      "cell_type": "code",
      "execution_count": null,
      "metadata": {
        "colab": {
          "base_uri": "https://localhost:8080/",
          "height": 299
        },
        "id": "lJGTyi6N5eSD",
        "outputId": "d9d0a53c-f4f8-441f-9f6f-23b2ce2b5de1"
      },
      "outputs": [
        {
          "output_type": "execute_result",
          "data": {
            "text/plain": [
              "   AirTemperature  ComfortTemperature  RelativeHumidity  WindSpeed  \\\n",
              "0            -1.7                -6.1              75.3        3.6   \n",
              "1            -1.8                -5.3              75.3        2.6   \n",
              "2            -2.0                -6.0              74.7        3.1   \n",
              "3            -1.9                -5.9              76.4        3.1   \n",
              "4            -2.0                -7.1              76.4        4.6   \n",
              "\n",
              "   WindDirection  WWCode  EffectiveCloudCover  Generation  hour  month  ...  \\\n",
              "0           60.0      10                  6.3    0.000000     0      1  ...   \n",
              "1           70.0      10                  4.5    0.000000     1      1  ...   \n",
              "2           80.0      10                  5.5    0.000008     2      1  ...   \n",
              "3           60.0      10                  7.6    0.000000     3      1  ...   \n",
              "4           60.0      10                  6.5    0.000008     4      1  ...   \n",
              "\n",
              "   dayofweek_6  quarter_1  quarter_2  quarter_3  quarter_4  year_2019  \\\n",
              "0            0          1          0          0          0          1   \n",
              "1            0          1          0          0          0          1   \n",
              "2            0          1          0          0          0          1   \n",
              "3            0          1          0          0          0          1   \n",
              "4            0          1          0          0          0          1   \n",
              "\n",
              "   year_2020  year_2021  issun_False  issun_True  \n",
              "0          0          0            1           0  \n",
              "1          0          0            1           0  \n",
              "2          0          0            1           0  \n",
              "3          0          0            1           0  \n",
              "4          0          0            1           0  \n",
              "\n",
              "[5 rows x 70 columns]"
            ],
            "text/html": [
              "\n",
              "  <div id=\"df-36bad5d1-1a30-4af3-99dc-81041e4db697\">\n",
              "    <div class=\"colab-df-container\">\n",
              "      <div>\n",
              "<style scoped>\n",
              "    .dataframe tbody tr th:only-of-type {\n",
              "        vertical-align: middle;\n",
              "    }\n",
              "\n",
              "    .dataframe tbody tr th {\n",
              "        vertical-align: top;\n",
              "    }\n",
              "\n",
              "    .dataframe thead th {\n",
              "        text-align: right;\n",
              "    }\n",
              "</style>\n",
              "<table border=\"1\" class=\"dataframe\">\n",
              "  <thead>\n",
              "    <tr style=\"text-align: right;\">\n",
              "      <th></th>\n",
              "      <th>AirTemperature</th>\n",
              "      <th>ComfortTemperature</th>\n",
              "      <th>RelativeHumidity</th>\n",
              "      <th>WindSpeed</th>\n",
              "      <th>WindDirection</th>\n",
              "      <th>WWCode</th>\n",
              "      <th>EffectiveCloudCover</th>\n",
              "      <th>Generation</th>\n",
              "      <th>hour</th>\n",
              "      <th>month</th>\n",
              "      <th>...</th>\n",
              "      <th>dayofweek_6</th>\n",
              "      <th>quarter_1</th>\n",
              "      <th>quarter_2</th>\n",
              "      <th>quarter_3</th>\n",
              "      <th>quarter_4</th>\n",
              "      <th>year_2019</th>\n",
              "      <th>year_2020</th>\n",
              "      <th>year_2021</th>\n",
              "      <th>issun_False</th>\n",
              "      <th>issun_True</th>\n",
              "    </tr>\n",
              "  </thead>\n",
              "  <tbody>\n",
              "    <tr>\n",
              "      <th>0</th>\n",
              "      <td>-1.7</td>\n",
              "      <td>-6.1</td>\n",
              "      <td>75.3</td>\n",
              "      <td>3.6</td>\n",
              "      <td>60.0</td>\n",
              "      <td>10</td>\n",
              "      <td>6.3</td>\n",
              "      <td>0.000000</td>\n",
              "      <td>0</td>\n",
              "      <td>1</td>\n",
              "      <td>...</td>\n",
              "      <td>0</td>\n",
              "      <td>1</td>\n",
              "      <td>0</td>\n",
              "      <td>0</td>\n",
              "      <td>0</td>\n",
              "      <td>1</td>\n",
              "      <td>0</td>\n",
              "      <td>0</td>\n",
              "      <td>1</td>\n",
              "      <td>0</td>\n",
              "    </tr>\n",
              "    <tr>\n",
              "      <th>1</th>\n",
              "      <td>-1.8</td>\n",
              "      <td>-5.3</td>\n",
              "      <td>75.3</td>\n",
              "      <td>2.6</td>\n",
              "      <td>70.0</td>\n",
              "      <td>10</td>\n",
              "      <td>4.5</td>\n",
              "      <td>0.000000</td>\n",
              "      <td>1</td>\n",
              "      <td>1</td>\n",
              "      <td>...</td>\n",
              "      <td>0</td>\n",
              "      <td>1</td>\n",
              "      <td>0</td>\n",
              "      <td>0</td>\n",
              "      <td>0</td>\n",
              "      <td>1</td>\n",
              "      <td>0</td>\n",
              "      <td>0</td>\n",
              "      <td>1</td>\n",
              "      <td>0</td>\n",
              "    </tr>\n",
              "    <tr>\n",
              "      <th>2</th>\n",
              "      <td>-2.0</td>\n",
              "      <td>-6.0</td>\n",
              "      <td>74.7</td>\n",
              "      <td>3.1</td>\n",
              "      <td>80.0</td>\n",
              "      <td>10</td>\n",
              "      <td>5.5</td>\n",
              "      <td>0.000008</td>\n",
              "      <td>2</td>\n",
              "      <td>1</td>\n",
              "      <td>...</td>\n",
              "      <td>0</td>\n",
              "      <td>1</td>\n",
              "      <td>0</td>\n",
              "      <td>0</td>\n",
              "      <td>0</td>\n",
              "      <td>1</td>\n",
              "      <td>0</td>\n",
              "      <td>0</td>\n",
              "      <td>1</td>\n",
              "      <td>0</td>\n",
              "    </tr>\n",
              "    <tr>\n",
              "      <th>3</th>\n",
              "      <td>-1.9</td>\n",
              "      <td>-5.9</td>\n",
              "      <td>76.4</td>\n",
              "      <td>3.1</td>\n",
              "      <td>60.0</td>\n",
              "      <td>10</td>\n",
              "      <td>7.6</td>\n",
              "      <td>0.000000</td>\n",
              "      <td>3</td>\n",
              "      <td>1</td>\n",
              "      <td>...</td>\n",
              "      <td>0</td>\n",
              "      <td>1</td>\n",
              "      <td>0</td>\n",
              "      <td>0</td>\n",
              "      <td>0</td>\n",
              "      <td>1</td>\n",
              "      <td>0</td>\n",
              "      <td>0</td>\n",
              "      <td>1</td>\n",
              "      <td>0</td>\n",
              "    </tr>\n",
              "    <tr>\n",
              "      <th>4</th>\n",
              "      <td>-2.0</td>\n",
              "      <td>-7.1</td>\n",
              "      <td>76.4</td>\n",
              "      <td>4.6</td>\n",
              "      <td>60.0</td>\n",
              "      <td>10</td>\n",
              "      <td>6.5</td>\n",
              "      <td>0.000008</td>\n",
              "      <td>4</td>\n",
              "      <td>1</td>\n",
              "      <td>...</td>\n",
              "      <td>0</td>\n",
              "      <td>1</td>\n",
              "      <td>0</td>\n",
              "      <td>0</td>\n",
              "      <td>0</td>\n",
              "      <td>1</td>\n",
              "      <td>0</td>\n",
              "      <td>0</td>\n",
              "      <td>1</td>\n",
              "      <td>0</td>\n",
              "    </tr>\n",
              "  </tbody>\n",
              "</table>\n",
              "<p>5 rows × 70 columns</p>\n",
              "</div>\n",
              "      <button class=\"colab-df-convert\" onclick=\"convertToInteractive('df-36bad5d1-1a30-4af3-99dc-81041e4db697')\"\n",
              "              title=\"Convert this dataframe to an interactive table.\"\n",
              "              style=\"display:none;\">\n",
              "        \n",
              "  <svg xmlns=\"http://www.w3.org/2000/svg\" height=\"24px\"viewBox=\"0 0 24 24\"\n",
              "       width=\"24px\">\n",
              "    <path d=\"M0 0h24v24H0V0z\" fill=\"none\"/>\n",
              "    <path d=\"M18.56 5.44l.94 2.06.94-2.06 2.06-.94-2.06-.94-.94-2.06-.94 2.06-2.06.94zm-11 1L8.5 8.5l.94-2.06 2.06-.94-2.06-.94L8.5 2.5l-.94 2.06-2.06.94zm10 10l.94 2.06.94-2.06 2.06-.94-2.06-.94-.94-2.06-.94 2.06-2.06.94z\"/><path d=\"M17.41 7.96l-1.37-1.37c-.4-.4-.92-.59-1.43-.59-.52 0-1.04.2-1.43.59L10.3 9.45l-7.72 7.72c-.78.78-.78 2.05 0 2.83L4 21.41c.39.39.9.59 1.41.59.51 0 1.02-.2 1.41-.59l7.78-7.78 2.81-2.81c.8-.78.8-2.07 0-2.86zM5.41 20L4 18.59l7.72-7.72 1.47 1.35L5.41 20z\"/>\n",
              "  </svg>\n",
              "      </button>\n",
              "      \n",
              "  <style>\n",
              "    .colab-df-container {\n",
              "      display:flex;\n",
              "      flex-wrap:wrap;\n",
              "      gap: 12px;\n",
              "    }\n",
              "\n",
              "    .colab-df-convert {\n",
              "      background-color: #E8F0FE;\n",
              "      border: none;\n",
              "      border-radius: 50%;\n",
              "      cursor: pointer;\n",
              "      display: none;\n",
              "      fill: #1967D2;\n",
              "      height: 32px;\n",
              "      padding: 0 0 0 0;\n",
              "      width: 32px;\n",
              "    }\n",
              "\n",
              "    .colab-df-convert:hover {\n",
              "      background-color: #E2EBFA;\n",
              "      box-shadow: 0px 1px 2px rgba(60, 64, 67, 0.3), 0px 1px 3px 1px rgba(60, 64, 67, 0.15);\n",
              "      fill: #174EA6;\n",
              "    }\n",
              "\n",
              "    [theme=dark] .colab-df-convert {\n",
              "      background-color: #3B4455;\n",
              "      fill: #D2E3FC;\n",
              "    }\n",
              "\n",
              "    [theme=dark] .colab-df-convert:hover {\n",
              "      background-color: #434B5C;\n",
              "      box-shadow: 0px 1px 3px 1px rgba(0, 0, 0, 0.15);\n",
              "      filter: drop-shadow(0px 1px 2px rgba(0, 0, 0, 0.3));\n",
              "      fill: #FFFFFF;\n",
              "    }\n",
              "  </style>\n",
              "\n",
              "      <script>\n",
              "        const buttonEl =\n",
              "          document.querySelector('#df-36bad5d1-1a30-4af3-99dc-81041e4db697 button.colab-df-convert');\n",
              "        buttonEl.style.display =\n",
              "          google.colab.kernel.accessAllowed ? 'block' : 'none';\n",
              "\n",
              "        async function convertToInteractive(key) {\n",
              "          const element = document.querySelector('#df-36bad5d1-1a30-4af3-99dc-81041e4db697');\n",
              "          const dataTable =\n",
              "            await google.colab.kernel.invokeFunction('convertToInteractive',\n",
              "                                                     [key], {});\n",
              "          if (!dataTable) return;\n",
              "\n",
              "          const docLinkHtml = 'Like what you see? Visit the ' +\n",
              "            '<a target=\"_blank\" href=https://colab.research.google.com/notebooks/data_table.ipynb>data table notebook</a>'\n",
              "            + ' to learn more about interactive tables.';\n",
              "          element.innerHTML = '';\n",
              "          dataTable['output_type'] = 'display_data';\n",
              "          await google.colab.output.renderOutput(dataTable, element);\n",
              "          const docLink = document.createElement('div');\n",
              "          docLink.innerHTML = docLinkHtml;\n",
              "          element.appendChild(docLink);\n",
              "        }\n",
              "      </script>\n",
              "    </div>\n",
              "  </div>\n",
              "  "
            ]
          },
          "metadata": {},
          "execution_count": 31
        }
      ],
      "source": [
        "df_copy.head()"
      ]
    },
    {
      "cell_type": "code",
      "execution_count": null,
      "metadata": {
        "id": "aFoqIvCg8xIQ"
      },
      "outputs": [],
      "source": [
        "num_cols=[col for col in num_cols if col not in \"Generation\"]"
      ]
    },
    {
      "cell_type": "code",
      "execution_count": null,
      "metadata": {
        "id": "eEZSKKK-6Hf6"
      },
      "outputs": [],
      "source": [
        "from sklearn.preprocessing import MinMaxScaler, LabelEncoder, StandardScaler, RobustScaler\n",
        "scaler = StandardScaler()\n",
        "df_copy[num_cols] = scaler.fit_transform(df_copy[num_cols])"
      ]
    },
    {
      "cell_type": "code",
      "execution_count": null,
      "metadata": {
        "colab": {
          "base_uri": "https://localhost:8080/",
          "height": 299
        },
        "id": "a7g1bZpO68N2",
        "outputId": "755d4412-f9a8-4d19-d1fc-5b82b555c83b"
      },
      "outputs": [
        {
          "output_type": "execute_result",
          "data": {
            "text/plain": [
              "   AirTemperature  ComfortTemperature  RelativeHumidity  WindSpeed  \\\n",
              "0       -1.681758           -2.013186          0.964672   1.418875   \n",
              "1       -1.692459           -1.931075          0.964672   0.682575   \n",
              "2       -1.713862           -2.002922          0.937893   1.050725   \n",
              "3       -1.703160           -1.992659          1.013767   1.050725   \n",
              "4       -1.713862           -2.115826          1.013767   2.155174   \n",
              "\n",
              "   WindDirection    WWCode  EffectiveCloudCover  Generation      hour  \\\n",
              "0      -0.266933  0.012842             1.498070    0.000000 -1.661325   \n",
              "1      -0.167749  0.012842             0.774405    0.000000 -1.516862   \n",
              "2      -0.068566  0.012842             1.176441    0.000008 -1.372399   \n",
              "3      -0.266933  0.012842             2.020718    0.000000 -1.227936   \n",
              "4      -0.266933  0.012842             1.578478    0.000008 -1.083473   \n",
              "\n",
              "      month  ...  dayofweek_6  quarter_1  quarter_2  quarter_3  quarter_4  \\\n",
              "0 -1.592217  ...            0          1          0          0          0   \n",
              "1 -1.592217  ...            0          1          0          0          0   \n",
              "2 -1.592217  ...            0          1          0          0          0   \n",
              "3 -1.592217  ...            0          1          0          0          0   \n",
              "4 -1.592217  ...            0          1          0          0          0   \n",
              "\n",
              "   year_2019  year_2020  year_2021  issun_False  issun_True  \n",
              "0          1          0          0            1           0  \n",
              "1          1          0          0            1           0  \n",
              "2          1          0          0            1           0  \n",
              "3          1          0          0            1           0  \n",
              "4          1          0          0            1           0  \n",
              "\n",
              "[5 rows x 70 columns]"
            ],
            "text/html": [
              "\n",
              "  <div id=\"df-7cc6f95d-1f39-41be-bb18-8058f8b0bf7c\">\n",
              "    <div class=\"colab-df-container\">\n",
              "      <div>\n",
              "<style scoped>\n",
              "    .dataframe tbody tr th:only-of-type {\n",
              "        vertical-align: middle;\n",
              "    }\n",
              "\n",
              "    .dataframe tbody tr th {\n",
              "        vertical-align: top;\n",
              "    }\n",
              "\n",
              "    .dataframe thead th {\n",
              "        text-align: right;\n",
              "    }\n",
              "</style>\n",
              "<table border=\"1\" class=\"dataframe\">\n",
              "  <thead>\n",
              "    <tr style=\"text-align: right;\">\n",
              "      <th></th>\n",
              "      <th>AirTemperature</th>\n",
              "      <th>ComfortTemperature</th>\n",
              "      <th>RelativeHumidity</th>\n",
              "      <th>WindSpeed</th>\n",
              "      <th>WindDirection</th>\n",
              "      <th>WWCode</th>\n",
              "      <th>EffectiveCloudCover</th>\n",
              "      <th>Generation</th>\n",
              "      <th>hour</th>\n",
              "      <th>month</th>\n",
              "      <th>...</th>\n",
              "      <th>dayofweek_6</th>\n",
              "      <th>quarter_1</th>\n",
              "      <th>quarter_2</th>\n",
              "      <th>quarter_3</th>\n",
              "      <th>quarter_4</th>\n",
              "      <th>year_2019</th>\n",
              "      <th>year_2020</th>\n",
              "      <th>year_2021</th>\n",
              "      <th>issun_False</th>\n",
              "      <th>issun_True</th>\n",
              "    </tr>\n",
              "  </thead>\n",
              "  <tbody>\n",
              "    <tr>\n",
              "      <th>0</th>\n",
              "      <td>-1.681758</td>\n",
              "      <td>-2.013186</td>\n",
              "      <td>0.964672</td>\n",
              "      <td>1.418875</td>\n",
              "      <td>-0.266933</td>\n",
              "      <td>0.012842</td>\n",
              "      <td>1.498070</td>\n",
              "      <td>0.000000</td>\n",
              "      <td>-1.661325</td>\n",
              "      <td>-1.592217</td>\n",
              "      <td>...</td>\n",
              "      <td>0</td>\n",
              "      <td>1</td>\n",
              "      <td>0</td>\n",
              "      <td>0</td>\n",
              "      <td>0</td>\n",
              "      <td>1</td>\n",
              "      <td>0</td>\n",
              "      <td>0</td>\n",
              "      <td>1</td>\n",
              "      <td>0</td>\n",
              "    </tr>\n",
              "    <tr>\n",
              "      <th>1</th>\n",
              "      <td>-1.692459</td>\n",
              "      <td>-1.931075</td>\n",
              "      <td>0.964672</td>\n",
              "      <td>0.682575</td>\n",
              "      <td>-0.167749</td>\n",
              "      <td>0.012842</td>\n",
              "      <td>0.774405</td>\n",
              "      <td>0.000000</td>\n",
              "      <td>-1.516862</td>\n",
              "      <td>-1.592217</td>\n",
              "      <td>...</td>\n",
              "      <td>0</td>\n",
              "      <td>1</td>\n",
              "      <td>0</td>\n",
              "      <td>0</td>\n",
              "      <td>0</td>\n",
              "      <td>1</td>\n",
              "      <td>0</td>\n",
              "      <td>0</td>\n",
              "      <td>1</td>\n",
              "      <td>0</td>\n",
              "    </tr>\n",
              "    <tr>\n",
              "      <th>2</th>\n",
              "      <td>-1.713862</td>\n",
              "      <td>-2.002922</td>\n",
              "      <td>0.937893</td>\n",
              "      <td>1.050725</td>\n",
              "      <td>-0.068566</td>\n",
              "      <td>0.012842</td>\n",
              "      <td>1.176441</td>\n",
              "      <td>0.000008</td>\n",
              "      <td>-1.372399</td>\n",
              "      <td>-1.592217</td>\n",
              "      <td>...</td>\n",
              "      <td>0</td>\n",
              "      <td>1</td>\n",
              "      <td>0</td>\n",
              "      <td>0</td>\n",
              "      <td>0</td>\n",
              "      <td>1</td>\n",
              "      <td>0</td>\n",
              "      <td>0</td>\n",
              "      <td>1</td>\n",
              "      <td>0</td>\n",
              "    </tr>\n",
              "    <tr>\n",
              "      <th>3</th>\n",
              "      <td>-1.703160</td>\n",
              "      <td>-1.992659</td>\n",
              "      <td>1.013767</td>\n",
              "      <td>1.050725</td>\n",
              "      <td>-0.266933</td>\n",
              "      <td>0.012842</td>\n",
              "      <td>2.020718</td>\n",
              "      <td>0.000000</td>\n",
              "      <td>-1.227936</td>\n",
              "      <td>-1.592217</td>\n",
              "      <td>...</td>\n",
              "      <td>0</td>\n",
              "      <td>1</td>\n",
              "      <td>0</td>\n",
              "      <td>0</td>\n",
              "      <td>0</td>\n",
              "      <td>1</td>\n",
              "      <td>0</td>\n",
              "      <td>0</td>\n",
              "      <td>1</td>\n",
              "      <td>0</td>\n",
              "    </tr>\n",
              "    <tr>\n",
              "      <th>4</th>\n",
              "      <td>-1.713862</td>\n",
              "      <td>-2.115826</td>\n",
              "      <td>1.013767</td>\n",
              "      <td>2.155174</td>\n",
              "      <td>-0.266933</td>\n",
              "      <td>0.012842</td>\n",
              "      <td>1.578478</td>\n",
              "      <td>0.000008</td>\n",
              "      <td>-1.083473</td>\n",
              "      <td>-1.592217</td>\n",
              "      <td>...</td>\n",
              "      <td>0</td>\n",
              "      <td>1</td>\n",
              "      <td>0</td>\n",
              "      <td>0</td>\n",
              "      <td>0</td>\n",
              "      <td>1</td>\n",
              "      <td>0</td>\n",
              "      <td>0</td>\n",
              "      <td>1</td>\n",
              "      <td>0</td>\n",
              "    </tr>\n",
              "  </tbody>\n",
              "</table>\n",
              "<p>5 rows × 70 columns</p>\n",
              "</div>\n",
              "      <button class=\"colab-df-convert\" onclick=\"convertToInteractive('df-7cc6f95d-1f39-41be-bb18-8058f8b0bf7c')\"\n",
              "              title=\"Convert this dataframe to an interactive table.\"\n",
              "              style=\"display:none;\">\n",
              "        \n",
              "  <svg xmlns=\"http://www.w3.org/2000/svg\" height=\"24px\"viewBox=\"0 0 24 24\"\n",
              "       width=\"24px\">\n",
              "    <path d=\"M0 0h24v24H0V0z\" fill=\"none\"/>\n",
              "    <path d=\"M18.56 5.44l.94 2.06.94-2.06 2.06-.94-2.06-.94-.94-2.06-.94 2.06-2.06.94zm-11 1L8.5 8.5l.94-2.06 2.06-.94-2.06-.94L8.5 2.5l-.94 2.06-2.06.94zm10 10l.94 2.06.94-2.06 2.06-.94-2.06-.94-.94-2.06-.94 2.06-2.06.94z\"/><path d=\"M17.41 7.96l-1.37-1.37c-.4-.4-.92-.59-1.43-.59-.52 0-1.04.2-1.43.59L10.3 9.45l-7.72 7.72c-.78.78-.78 2.05 0 2.83L4 21.41c.39.39.9.59 1.41.59.51 0 1.02-.2 1.41-.59l7.78-7.78 2.81-2.81c.8-.78.8-2.07 0-2.86zM5.41 20L4 18.59l7.72-7.72 1.47 1.35L5.41 20z\"/>\n",
              "  </svg>\n",
              "      </button>\n",
              "      \n",
              "  <style>\n",
              "    .colab-df-container {\n",
              "      display:flex;\n",
              "      flex-wrap:wrap;\n",
              "      gap: 12px;\n",
              "    }\n",
              "\n",
              "    .colab-df-convert {\n",
              "      background-color: #E8F0FE;\n",
              "      border: none;\n",
              "      border-radius: 50%;\n",
              "      cursor: pointer;\n",
              "      display: none;\n",
              "      fill: #1967D2;\n",
              "      height: 32px;\n",
              "      padding: 0 0 0 0;\n",
              "      width: 32px;\n",
              "    }\n",
              "\n",
              "    .colab-df-convert:hover {\n",
              "      background-color: #E2EBFA;\n",
              "      box-shadow: 0px 1px 2px rgba(60, 64, 67, 0.3), 0px 1px 3px 1px rgba(60, 64, 67, 0.15);\n",
              "      fill: #174EA6;\n",
              "    }\n",
              "\n",
              "    [theme=dark] .colab-df-convert {\n",
              "      background-color: #3B4455;\n",
              "      fill: #D2E3FC;\n",
              "    }\n",
              "\n",
              "    [theme=dark] .colab-df-convert:hover {\n",
              "      background-color: #434B5C;\n",
              "      box-shadow: 0px 1px 3px 1px rgba(0, 0, 0, 0.15);\n",
              "      filter: drop-shadow(0px 1px 2px rgba(0, 0, 0, 0.3));\n",
              "      fill: #FFFFFF;\n",
              "    }\n",
              "  </style>\n",
              "\n",
              "      <script>\n",
              "        const buttonEl =\n",
              "          document.querySelector('#df-7cc6f95d-1f39-41be-bb18-8058f8b0bf7c button.colab-df-convert');\n",
              "        buttonEl.style.display =\n",
              "          google.colab.kernel.accessAllowed ? 'block' : 'none';\n",
              "\n",
              "        async function convertToInteractive(key) {\n",
              "          const element = document.querySelector('#df-7cc6f95d-1f39-41be-bb18-8058f8b0bf7c');\n",
              "          const dataTable =\n",
              "            await google.colab.kernel.invokeFunction('convertToInteractive',\n",
              "                                                     [key], {});\n",
              "          if (!dataTable) return;\n",
              "\n",
              "          const docLinkHtml = 'Like what you see? Visit the ' +\n",
              "            '<a target=\"_blank\" href=https://colab.research.google.com/notebooks/data_table.ipynb>data table notebook</a>'\n",
              "            + ' to learn more about interactive tables.';\n",
              "          element.innerHTML = '';\n",
              "          dataTable['output_type'] = 'display_data';\n",
              "          await google.colab.output.renderOutput(dataTable, element);\n",
              "          const docLink = document.createElement('div');\n",
              "          docLink.innerHTML = docLinkHtml;\n",
              "          element.appendChild(docLink);\n",
              "        }\n",
              "      </script>\n",
              "    </div>\n",
              "  </div>\n",
              "  "
            ]
          },
          "metadata": {},
          "execution_count": 34
        }
      ],
      "source": [
        "df_copy.head()"
      ]
    },
    {
      "cell_type": "code",
      "execution_count": null,
      "metadata": {
        "id": "ETmmVAkK-dA3",
        "colab": {
          "base_uri": "https://localhost:8080/",
          "height": 1000
        },
        "outputId": "8bb81a69-7d8a-4a35-d133-64c094de49d6"
      },
      "outputs": [
        {
          "output_type": "stream",
          "name": "stdout",
          "text": [
            "count    2.556000e+04\n",
            "mean     1.334353e-17\n",
            "std      1.000020e+00\n",
            "min     -2.901699e+00\n",
            "5%      -1.521239e+00\n",
            "10%     -1.307215e+00\n",
            "20%     -9.754762e-01\n",
            "30%     -6.544390e-01\n",
            "40%     -3.441030e-01\n",
            "50%     -2.306586e-02\n",
            "60%      3.086726e-01\n",
            "70%      5.976060e-01\n",
            "80%      9.400457e-01\n",
            "90%      1.378797e+00\n",
            "95%      1.635626e+00\n",
            "99%      2.052975e+00\n",
            "max      2.673646e+00\n",
            "Name: AirTemperature, dtype: float64\n"
          ]
        },
        {
          "output_type": "display_data",
          "data": {
            "text/plain": [
              "<Figure size 432x288 with 1 Axes>"
            ],
            "image/png": "[encoded data removed]"
          },
          "metadata": {
            "needs_background": "light"
          }
        },
        {
          "output_type": "stream",
          "name": "stdout",
          "text": [
            "count    2.556000e+04\n",
            "mean     4.447842e-18\n",
            "std      1.000020e+00\n",
            "min     -3.368023e+00\n",
            "5%      -1.530783e+00\n",
            "10%     -1.315240e+00\n",
            "20%     -9.867952e-01\n",
            "30%     -6.686139e-01\n",
            "40%     -3.299049e-01\n",
            "50%     -1.172359e-02\n",
            "60%      3.372494e-01\n",
            "70%      6.451668e-01\n",
            "80%      9.838759e-01\n",
            "90%      1.353377e+00\n",
            "95%      1.589447e+00\n",
            "99%      1.907628e+00\n",
            "max      2.431087e+00\n",
            "Name: ComfortTemperature, dtype: float64\n"
          ]
        },
        {
          "output_type": "display_data",
          "data": {
            "text/plain": [
              "<Figure size 432x288 with 1 Axes>"
            ],
            "image/png": "[encoded data removed]"
          },
          "metadata": {
            "needs_background": "light"
          }
        },
        {
          "output_type": "stream",
          "name": "stdout",
          "text": [
            "count    2.556000e+04\n",
            "mean     2.624227e-16\n",
            "std      1.000020e+00\n",
            "min     -2.324705e+00\n",
            "5%      -1.597204e+00\n",
            "10%     -1.374044e+00\n",
            "20%     -9.812824e-01\n",
            "30%     -6.242266e-01\n",
            "40%     -2.984131e-01\n",
            "50%      2.293710e-02\n",
            "60%      3.308977e-01\n",
            "70%      6.433216e-01\n",
            "80%      9.691350e-01\n",
            "90%      1.340027e+00\n",
            "95%      1.571667e+00\n",
            "99%      1.888554e+00\n",
            "max      2.067082e+00\n",
            "Name: RelativeHumidity, dtype: float64\n"
          ]
        },
        {
          "output_type": "display_data",
          "data": {
            "text/plain": [
              "<Figure size 432x288 with 1 Axes>"
            ],
            "image/png": "[encoded data removed]"
          },
          "metadata": {
            "needs_background": "light"
          }
        },
        {
          "output_type": "stream",
          "name": "stdout",
          "text": [
            "count    2.556000e+04\n",
            "mean    -3.113489e-16\n",
            "std      1.000020e+00\n",
            "min     -1.231804e+00\n",
            "5%      -1.231804e+00\n",
            "10%     -8.636541e-01\n",
            "20%     -8.636541e-01\n",
            "30%     -6.427642e-01\n",
            "40%     -4.955043e-01\n",
            "50%     -1.273545e-01\n",
            "60%     -1.273545e-01\n",
            "70%      3.144253e-01\n",
            "80%      6.825751e-01\n",
            "90%      1.418875e+00\n",
            "95%      1.787025e+00\n",
            "99%      2.965104e+00\n",
            "max      8.634611e+00\n",
            "Name: WindSpeed, dtype: float64\n"
          ]
        },
        {
          "output_type": "display_data",
          "data": {
            "text/plain": [
              "<Figure size 432x288 with 1 Axes>"
            ],
            "image/png": "[encoded data removed]"
          },
          "metadata": {
            "needs_background": "light"
          }
        },
        {
          "output_type": "stream",
          "name": "stdout",
          "text": [
            "count    2.556000e+04\n",
            "mean     4.447842e-18\n",
            "std      1.000020e+00\n",
            "min     -8.620343e-01\n",
            "5%      -8.620343e-01\n",
            "10%     -7.628507e-01\n",
            "20%     -6.636672e-01\n",
            "30%     -6.636672e-01\n",
            "40%     -5.644836e-01\n",
            "50%     -5.644836e-01\n",
            "60%     -4.653001e-01\n",
            "70%     -6.856587e-02\n",
            "80%      1.091882e+00\n",
            "90%      1.518371e+00\n",
            "95%      2.212656e+00\n",
            "99%      2.708574e+00\n",
            "max      2.708574e+00\n",
            "Name: WindDirection, dtype: float64\n"
          ]
        },
        {
          "output_type": "display_data",
          "data": {
            "text/plain": [
              "<Figure size 432x288 with 1 Axes>"
            ],
            "image/png": "[encoded data removed]"
          },
          "metadata": {
            "needs_background": "light"
          }
        },
        {
          "output_type": "stream",
          "name": "stdout",
          "text": [
            "count    2.556000e+04\n",
            "mean    -7.783723e-18\n",
            "std      1.000020e+00\n",
            "min     -4.447629e-01\n",
            "5%      -4.447629e-01\n",
            "10%     -4.447629e-01\n",
            "20%     -4.447629e-01\n",
            "30%     -4.447629e-01\n",
            "40%     -4.447629e-01\n",
            "50%     -3.990024e-01\n",
            "60%     -3.532419e-01\n",
            "70%     -2.617209e-01\n",
            "80%     -1.702000e-01\n",
            "90%      7.450096e-01\n",
            "95%      3.216076e+00\n",
            "99%      3.902483e+00\n",
            "max      4.085525e+00\n",
            "Name: WWCode, dtype: float64\n"
          ]
        },
        {
          "output_type": "display_data",
          "data": {
            "text/plain": [
              "<Figure size 432x288 with 1 Axes>"
            ],
            "image/png": "[encoded data removed]"
          },
          "metadata": {
            "needs_background": "light"
          }
        },
        {
          "output_type": "stream",
          "name": "stdout",
          "text": [
            "count    2.556000e+04\n",
            "mean    -1.156439e-16\n",
            "std      1.000020e+00\n",
            "min     -1.034760e+00\n",
            "5%      -1.034760e+00\n",
            "10%     -1.034760e+00\n",
            "20%     -1.034760e+00\n",
            "30%     -1.034760e+00\n",
            "40%     -7.131303e-01\n",
            "50%     -2.306865e-01\n",
            "60%      1.713500e-01\n",
            "70%      7.342011e-01\n",
            "80%      1.096034e+00\n",
            "90%      1.377459e+00\n",
            "95%      1.618681e+00\n",
            "99%      2.020718e+00\n",
            "max      2.181532e+00\n",
            "Name: EffectiveCloudCover, dtype: float64\n"
          ]
        },
        {
          "output_type": "display_data",
          "data": {
            "text/plain": [
              "<Figure size 432x288 with 1 Axes>"
            ],
            "image/png": "[encoded data removed]"
          },
          "metadata": {
            "needs_background": "light"
          }
        },
        {
          "output_type": "stream",
          "name": "stdout",
          "text": [
            "count    2.556000e+04\n",
            "mean     2.779901e-19\n",
            "std      1.000020e+00\n",
            "min     -1.661325e+00\n",
            "5%      -1.516862e+00\n",
            "10%     -1.372399e+00\n",
            "20%     -1.083473e+00\n",
            "30%     -6.500836e-01\n",
            "40%     -3.611576e-01\n",
            "50%      0.000000e+00\n",
            "60%      3.611576e-01\n",
            "70%      6.500836e-01\n",
            "80%      1.083473e+00\n",
            "90%      1.372399e+00\n",
            "95%      1.516862e+00\n",
            "99%      1.661325e+00\n",
            "max      1.661325e+00\n",
            "Name: hour, dtype: float64\n"
          ]
        },
        {
          "output_type": "display_data",
          "data": {
            "text/plain": [
              "<Figure size 432x288 with 1 Axes>"
            ],
            "image/png": "[encoded data removed]"
          },
          "metadata": {
            "needs_background": "light"
          }
        },
        {
          "output_type": "stream",
          "name": "stdout",
          "text": [
            "count    2.556000e+04\n",
            "mean     2.668705e-17\n",
            "std      1.000020e+00\n",
            "min     -1.592217e+00\n",
            "5%      -1.592217e+00\n",
            "10%     -1.295296e+00\n",
            "20%     -9.983764e-01\n",
            "30%     -7.014563e-01\n",
            "40%     -4.045362e-01\n",
            "50%     -1.076161e-01\n",
            "60%      4.862241e-01\n",
            "70%      7.831442e-01\n",
            "80%      1.080064e+00\n",
            "90%      1.376984e+00\n",
            "95%      1.673904e+00\n",
            "99%      1.673904e+00\n",
            "max      1.673904e+00\n",
            "Name: month, dtype: float64\n"
          ]
        },
        {
          "output_type": "display_data",
          "data": {
            "text/plain": [
              "<Figure size 432x288 with 1 Axes>"
            ],
            "image/png": "[encoded data removed]"
          },
          "metadata": {
            "needs_background": "light"
          }
        },
        {
          "output_type": "stream",
          "name": "stdout",
          "text": [
            "count    2.556000e+04\n",
            "mean    -1.067482e-16\n",
            "std      1.000020e+00\n",
            "min     -1.721377e+00\n",
            "5%      -1.556337e+00\n",
            "10%     -1.381589e+00\n",
            "20%     -1.034033e+00\n",
            "30%     -6.923030e-01\n",
            "40%     -3.466893e-01\n",
            "50%     -3.017306e-03\n",
            "60%      3.406547e-01\n",
            "70%      6.862684e-01\n",
            "80%      1.027999e+00\n",
            "90%      1.375554e+00\n",
            "95%      1.560011e+00\n",
            "99%      1.773592e+00\n",
            "max      1.822134e+00\n",
            "Name: dayofyear, dtype: float64\n"
          ]
        },
        {
          "output_type": "display_data",
          "data": {
            "text/plain": [
              "<Figure size 432x288 with 1 Axes>"
            ],
            "image/png": "[encoded data removed]"
          },
          "metadata": {
            "needs_background": "light"
          }
        },
        {
          "output_type": "stream",
          "name": "stdout",
          "text": [
            "count    2.556000e+04\n",
            "mean     5.337410e-17\n",
            "std      1.000020e+00\n",
            "min     -1.673842e+00\n",
            "5%      -1.560168e+00\n",
            "10%     -1.332819e+00\n",
            "20%     -9.917960e-01\n",
            "30%     -6.507727e-01\n",
            "40%     -3.097494e-01\n",
            "50%      3.127381e-02\n",
            "60%      3.722971e-01\n",
            "70%      7.133203e-01\n",
            "80%      1.054344e+00\n",
            "90%      1.395367e+00\n",
            "95%      1.509041e+00\n",
            "99%      1.736390e+00\n",
            "max      1.736390e+00\n",
            "Name: dayofmonth, dtype: float64\n"
          ]
        },
        {
          "output_type": "display_data",
          "data": {
            "text/plain": [
              "<Figure size 432x288 with 1 Axes>"
            ],
            "image/png": "[encoded data removed]"
          },
          "metadata": {
            "needs_background": "light"
          }
        },
        {
          "output_type": "stream",
          "name": "stdout",
          "text": [
            "count    2.556000e+04\n",
            "mean     1.601223e-16\n",
            "std      1.000020e+00\n",
            "min     -1.693513e+00\n",
            "5%      -1.557848e+00\n",
            "10%     -1.354352e+00\n",
            "20%     -1.015191e+00\n",
            "30%     -6.760294e-01\n",
            "40%     -3.368682e-01\n",
            "50%      2.292920e-03\n",
            "60%      3.414541e-01\n",
            "70%      6.806152e-01\n",
            "80%      1.019776e+00\n",
            "90%      1.358938e+00\n",
            "95%      1.562434e+00\n",
            "99%      1.765931e+00\n",
            "max      1.833763e+00\n",
            "Name: weekofyear, dtype: float64\n"
          ]
        },
        {
          "output_type": "display_data",
          "data": {
            "text/plain": [
              "<Figure size 432x288 with 1 Axes>"
            ],
            "image/png": "[encoded data removed]"
          },
          "metadata": {
            "needs_background": "light"
          }
        }
      ],
      "source": [
        "def num_summary(dataframe, numerical_col, plot=False):\n",
        "    quantiles = [0.05, 0.10, 0.20, 0.30, 0.40, 0.50, 0.60, 0.70, 0.80, 0.90, 0.95, 0.99]\n",
        "    print(dataframe[numerical_col].describe(quantiles).T)\n",
        "\n",
        "    if plot:\n",
        "        dataframe[numerical_col].hist(bins=20)\n",
        "        plt.xlabel(numerical_col)\n",
        "        plt.title(numerical_col)\n",
        "        plt.show(block=True)\n",
        "\n",
        "for col in num_cols:\n",
        "    num_summary(df_copy, col, plot=True)"
      ]
    },
    {
      "cell_type": "code",
      "execution_count": null,
      "metadata": {
        "id": "IGNW6hOn7KN6"
      },
      "outputs": [],
      "source": [
        "#Model Evolution\n",
        "X=df_copy.drop(\"Generation\",axis=1)\n",
        "y=df_copy[[\"Generation\"]]\n"
      ]
    },
    {
      "cell_type": "code",
      "execution_count": null,
      "metadata": {
        "colab": {
          "base_uri": "https://localhost:8080/"
        },
        "id": "o81q8kzBCVa5",
        "outputId": "5b56a122-3c53-4574-9646-0519480b904d"
      },
      "outputs": [
        {
          "output_type": "execute_result",
          "data": {
            "text/plain": [
              "AirTemperature        float64\n",
              "ComfortTemperature    float64\n",
              "RelativeHumidity      float64\n",
              "WindSpeed             float64\n",
              "WindDirection         float64\n",
              "                       ...   \n",
              "year_2019               uint8\n",
              "year_2020               uint8\n",
              "year_2021               uint8\n",
              "issun_False             uint8\n",
              "issun_True              uint8\n",
              "Length: 69, dtype: object"
            ]
          },
          "metadata": {},
          "execution_count": 37
        }
      ],
      "source": [
        "X.dtypes"
      ]
    },
    {
      "cell_type": "code",
      "execution_count": null,
      "metadata": {
        "id": "JPLXkcaf-Alm"
      },
      "outputs": [],
      "source": [
        "from sklearn.linear_model import LogisticRegression\n",
        "from sklearn.model_selection import cross_validate, GridSearchCV\n",
        "from sklearn.neighbors import KNeighborsClassifier\n",
        "from sklearn.svm import SVC\n",
        "from sklearn.tree import DecisionTreeClassifier\n",
        "from sklearn.preprocessing import StandardScaler\n",
        "from sklearn.ensemble import RandomForestClassifier, GradientBoostingClassifier, VotingClassifier, AdaBoostClassifier\n",
        "from xgboost import XGBClassifier\n",
        "from lightgbm import LGBMClassifier\n",
        "from sklearn import metrics\n",
        "\n",
        "def base_models(X, y, scoring=\"r2\"):\n",
        "    print(\"Base Models....\")\n",
        "    classifiers = [#('LR', LogisticRegression()),\n",
        "    #                ('KNN', KNeighborsClassifier()),\n",
        "    #                (\"SVC\", SVC()),\n",
        "    #                (\"CART\", DecisionTreeClassifier()),\n",
        "    #                (\"RF\", RandomForestClassifier()),\n",
        "    #                ('Adaboost', AdaBoostClassifier()),\n",
        "    #                ('GBM', GradientBoostingClassifier()),\n",
        "                  #  ('XGBoost', XGBClassifier(use_label_encoder=False, eval_metric='logloss')),\n",
        "                   ('LightGBM', LGBMClassifier()),\n",
        "                   # ('CatBoost', CatBoostClassifier(verbose=False))  #uzun sürdüğünden comment lendi\n",
        "                   ]\n",
        "\n",
        "    for name, classifier in classifiers:\n",
        "        cv_results = cross_validate(classifier, X, y, cv=3, scoring=scoring)\n",
        "        print(f\"{scoring}: {round(cv_results['test_score'].mean(), 4)} ({name}) \")\n",
        "        # r2 = metrics.r2_score(y_test, y_pred)\n",
        "        # print(\"R2 \",r2)\n",
        "        # # Cross-validate the linear regression using (negative) MSE\n",
        "        # print(\"MSE \",mean_squared_error(y_test, y_pred))\n",
        "        # print(\"RMSE \",mean_squared_error(y_test, y_pred, squared=True))\n",
        "\n"
      ]
    },
    {
      "cell_type": "code",
      "execution_count": null,
      "metadata": {
        "colab": {
          "base_uri": "https://localhost:8080/"
        },
        "id": "S_cF3yFjA_eK",
        "outputId": "25e47307-19d4-46f8-ddc6-35073cde5aa4"
      },
      "outputs": [
        {
          "output_type": "stream",
          "name": "stdout",
          "text": [
            "Base Models....\n",
            "r2: nan (LightGBM) \n"
          ]
        },
        {
          "output_type": "stream",
          "name": "stderr",
          "text": [
            "/usr/local/lib/python3.7/dist-packages/sklearn/model_selection/_validation.py:619: FitFailedWarning: Estimator fit failed. The score on this train-test partition for these parameters will be set to nan. Details: \n",
            "Traceback (most recent call last):\n",
            "  File \"/usr/local/lib/python3.7/dist-packages/sklearn/model_selection/_validation.py\", line 598, in _fit_and_score\n",
            "    estimator.fit(X_train, y_train, **fit_params)\n",
            "  File \"/usr/local/lib/python3.7/dist-packages/lightgbm/sklearn.py\", line 923, in fit\n",
            "    _LGBMCheckClassificationTargets(y)\n",
            "  File \"/usr/local/lib/python3.7/dist-packages/sklearn/utils/multiclass.py\", line 183, in check_classification_targets\n",
            "    raise ValueError(\"Unknown label type: %r\" % y_type)\n",
            "ValueError: Unknown label type: 'continuous'\n",
            "\n",
            "  FitFailedWarning)\n",
            "/usr/local/lib/python3.7/dist-packages/sklearn/model_selection/_validation.py:619: FitFailedWarning: Estimator fit failed. The score on this train-test partition for these parameters will be set to nan. Details: \n",
            "Traceback (most recent call last):\n",
            "  File \"/usr/local/lib/python3.7/dist-packages/sklearn/model_selection/_validation.py\", line 598, in _fit_and_score\n",
            "    estimator.fit(X_train, y_train, **fit_params)\n",
            "  File \"/usr/local/lib/python3.7/dist-packages/lightgbm/sklearn.py\", line 923, in fit\n",
            "    _LGBMCheckClassificationTargets(y)\n",
            "  File \"/usr/local/lib/python3.7/dist-packages/sklearn/utils/multiclass.py\", line 183, in check_classification_targets\n",
            "    raise ValueError(\"Unknown label type: %r\" % y_type)\n",
            "ValueError: Unknown label type: 'continuous'\n",
            "\n",
            "  FitFailedWarning)\n",
            "/usr/local/lib/python3.7/dist-packages/sklearn/model_selection/_validation.py:619: FitFailedWarning: Estimator fit failed. The score on this train-test partition for these parameters will be set to nan. Details: \n",
            "Traceback (most recent call last):\n",
            "  File \"/usr/local/lib/python3.7/dist-packages/sklearn/model_selection/_validation.py\", line 598, in _fit_and_score\n",
            "    estimator.fit(X_train, y_train, **fit_params)\n",
            "  File \"/usr/local/lib/python3.7/dist-packages/lightgbm/sklearn.py\", line 923, in fit\n",
            "    _LGBMCheckClassificationTargets(y)\n",
            "  File \"/usr/local/lib/python3.7/dist-packages/sklearn/utils/multiclass.py\", line 183, in check_classification_targets\n",
            "    raise ValueError(\"Unknown label type: %r\" % y_type)\n",
            "ValueError: Unknown label type: 'continuous'\n",
            "\n",
            "  FitFailedWarning)\n"
          ]
        }
      ],
      "source": [
        "base_models(X, y, scoring=\"r2\")"
      ]
    },
    {
      "cell_type": "code",
      "execution_count": null,
      "metadata": {
        "id": "WuHRLSuiRTWa"
      },
      "outputs": [],
      "source": [
        "from sklearn.model_selection import KFold, train_test_split, cross_val_predict, cross_val_score\n",
        "\n",
        "X_train, X_test, y_train, y_test = train_test_split(X, y, \n",
        "                                                    train_size=0.7,\n",
        "                                                    test_size = 0.3, random_state=40)"
      ]
    },
    {
      "cell_type": "code",
      "execution_count": null,
      "metadata": {
        "colab": {
          "base_uri": "https://localhost:8080/",
          "height": 258
        },
        "id": "q_jzdRyqS5fO",
        "outputId": "d631a15c-3377-4a95-e863-cfa3db63a674"
      },
      "outputs": [
        {
          "output_type": "stream",
          "name": "stdout",
          "text": [
            "<class 'pandas.core.frame.DataFrame'>\n",
            "Generation    float64\n",
            "dtype: object\n"
          ]
        },
        {
          "output_type": "execute_result",
          "data": {
            "text/plain": [
              "      Generation\n",
              "120     0.000000\n",
              "6975  145.359906\n",
              "1756    0.000008\n",
              "3166    0.000000\n",
              "2074  220.941836"
            ],
            "text/html": [
              "\n",
              "  <div id=\"df-026f2eab-8d2e-4eda-a8b4-306a5f8f8477\">\n",
              "    <div class=\"colab-df-container\">\n",
              "      <div>\n",
              "<style scoped>\n",
              "    .dataframe tbody tr th:only-of-type {\n",
              "        vertical-align: middle;\n",
              "    }\n",
              "\n",
              "    .dataframe tbody tr th {\n",
              "        vertical-align: top;\n",
              "    }\n",
              "\n",
              "    .dataframe thead th {\n",
              "        text-align: right;\n",
              "    }\n",
              "</style>\n",
              "<table border=\"1\" class=\"dataframe\">\n",
              "  <thead>\n",
              "    <tr style=\"text-align: right;\">\n",
              "      <th></th>\n",
              "      <th>Generation</th>\n",
              "    </tr>\n",
              "  </thead>\n",
              "  <tbody>\n",
              "    <tr>\n",
              "      <th>120</th>\n",
              "      <td>0.000000</td>\n",
              "    </tr>\n",
              "    <tr>\n",
              "      <th>6975</th>\n",
              "      <td>145.359906</td>\n",
              "    </tr>\n",
              "    <tr>\n",
              "      <th>1756</th>\n",
              "      <td>0.000008</td>\n",
              "    </tr>\n",
              "    <tr>\n",
              "      <th>3166</th>\n",
              "      <td>0.000000</td>\n",
              "    </tr>\n",
              "    <tr>\n",
              "      <th>2074</th>\n",
              "      <td>220.941836</td>\n",
              "    </tr>\n",
              "  </tbody>\n",
              "</table>\n",
              "</div>\n",
              "      <button class=\"colab-df-convert\" onclick=\"convertToInteractive('df-026f2eab-8d2e-4eda-a8b4-306a5f8f8477')\"\n",
              "              title=\"Convert this dataframe to an interactive table.\"\n",
              "              style=\"display:none;\">\n",
              "        \n",
              "  <svg xmlns=\"http://www.w3.org/2000/svg\" height=\"24px\"viewBox=\"0 0 24 24\"\n",
              "       width=\"24px\">\n",
              "    <path d=\"M0 0h24v24H0V0z\" fill=\"none\"/>\n",
              "    <path d=\"M18.56 5.44l.94 2.06.94-2.06 2.06-.94-2.06-.94-.94-2.06-.94 2.06-2.06.94zm-11 1L8.5 8.5l.94-2.06 2.06-.94-2.06-.94L8.5 2.5l-.94 2.06-2.06.94zm10 10l.94 2.06.94-2.06 2.06-.94-2.06-.94-.94-2.06-.94 2.06-2.06.94z\"/><path d=\"M17.41 7.96l-1.37-1.37c-.4-.4-.92-.59-1.43-.59-.52 0-1.04.2-1.43.59L10.3 9.45l-7.72 7.72c-.78.78-.78 2.05 0 2.83L4 21.41c.39.39.9.59 1.41.59.51 0 1.02-.2 1.41-.59l7.78-7.78 2.81-2.81c.8-.78.8-2.07 0-2.86zM5.41 20L4 18.59l7.72-7.72 1.47 1.35L5.41 20z\"/>\n",
              "  </svg>\n",
              "      </button>\n",
              "      \n",
              "  <style>\n",
              "    .colab-df-container {\n",
              "      display:flex;\n",
              "      flex-wrap:wrap;\n",
              "      gap: 12px;\n",
              "    }\n",
              "\n",
              "    .colab-df-convert {\n",
              "      background-color: #E8F0FE;\n",
              "      border: none;\n",
              "      border-radius: 50%;\n",
              "      cursor: pointer;\n",
              "      display: none;\n",
              "      fill: #1967D2;\n",
              "      height: 32px;\n",
              "      padding: 0 0 0 0;\n",
              "      width: 32px;\n",
              "    }\n",
              "\n",
              "    .colab-df-convert:hover {\n",
              "      background-color: #E2EBFA;\n",
              "      box-shadow: 0px 1px 2px rgba(60, 64, 67, 0.3), 0px 1px 3px 1px rgba(60, 64, 67, 0.15);\n",
              "      fill: #174EA6;\n",
              "    }\n",
              "\n",
              "    [theme=dark] .colab-df-convert {\n",
              "      background-color: #3B4455;\n",
              "      fill: #D2E3FC;\n",
              "    }\n",
              "\n",
              "    [theme=dark] .colab-df-convert:hover {\n",
              "      background-color: #434B5C;\n",
              "      box-shadow: 0px 1px 3px 1px rgba(0, 0, 0, 0.15);\n",
              "      filter: drop-shadow(0px 1px 2px rgba(0, 0, 0, 0.3));\n",
              "      fill: #FFFFFF;\n",
              "    }\n",
              "  </style>\n",
              "\n",
              "      <script>\n",
              "        const buttonEl =\n",
              "          document.querySelector('#df-026f2eab-8d2e-4eda-a8b4-306a5f8f8477 button.colab-df-convert');\n",
              "        buttonEl.style.display =\n",
              "          google.colab.kernel.accessAllowed ? 'block' : 'none';\n",
              "\n",
              "        async function convertToInteractive(key) {\n",
              "          const element = document.querySelector('#df-026f2eab-8d2e-4eda-a8b4-306a5f8f8477');\n",
              "          const dataTable =\n",
              "            await google.colab.kernel.invokeFunction('convertToInteractive',\n",
              "                                                     [key], {});\n",
              "          if (!dataTable) return;\n",
              "\n",
              "          const docLinkHtml = 'Like what you see? Visit the ' +\n",
              "            '<a target=\"_blank\" href=https://colab.research.google.com/notebooks/data_table.ipynb>data table notebook</a>'\n",
              "            + ' to learn more about interactive tables.';\n",
              "          element.innerHTML = '';\n",
              "          dataTable['output_type'] = 'display_data';\n",
              "          await google.colab.output.renderOutput(dataTable, element);\n",
              "          const docLink = document.createElement('div');\n",
              "          docLink.innerHTML = docLinkHtml;\n",
              "          element.appendChild(docLink);\n",
              "        }\n",
              "      </script>\n",
              "    </div>\n",
              "  </div>\n",
              "  "
            ]
          },
          "metadata": {},
          "execution_count": 41
        }
      ],
      "source": [
        "print(type(y_train))\n",
        "print(y_train.dtypes)\n",
        "y_series = y_train.squeeze()\n",
        "x_series=X_train.squeeze()\n",
        "X_test_series=X_test.squeeze()\n",
        "y_test_series=y_test.squeeze()\n",
        "y_train.head()"
      ]
    },
    {
      "cell_type": "code",
      "execution_count": null,
      "metadata": {
        "colab": {
          "base_uri": "https://localhost:8080/"
        },
        "id": "WIZKvjDZCHnR",
        "outputId": "1ab89f6e-9ff0-487f-a208-6d41776ceaf3"
      },
      "outputs": [
        {
          "output_type": "stream",
          "name": "stderr",
          "text": [
            "[flaml.automl: 09-23 19:12:04] {2600} INFO - task = regression\n",
            "INFO:flaml.automl:task = regression\n",
            "[flaml.automl: 09-23 19:12:04] {2602} INFO - Data split method: uniform\n",
            "INFO:flaml.automl:Data split method: uniform\n",
            "[flaml.automl: 09-23 19:12:04] {2605} INFO - Evaluation method: holdout\n",
            "INFO:flaml.automl:Evaluation method: holdout\n",
            "[flaml.automl: 09-23 19:12:04] {2727} INFO - Minimizing error metric: 1-r2\n",
            "INFO:flaml.automl:Minimizing error metric: 1-r2\n",
            "[flaml.automl: 09-23 19:12:04] {2778} WARNING - No search budget is provided via time_budget or max_iter. Training only one model per estimator. To tune hyperparameters for each estimator, please provide budget either via time_budget or max_iter.\n",
            "WARNING:flaml.automl:No search budget is provided via time_budget or max_iter. Training only one model per estimator. To tune hyperparameters for each estimator, please provide budget either via time_budget or max_iter.\n",
            "INFO:flaml.default.suggest:metafeature distance: 6.666739584347735\n",
            "INFO:flaml.default.suggest:metafeature distance: 3.636376119336741\n",
            "INFO:flaml.default.suggest:metafeature distance: 8.000011445579789\n",
            "INFO:flaml.default.suggest:metafeature distance: 2.6666826983458005\n",
            "INFO:flaml.default.suggest:metafeature distance: 20.000024306011845\n",
            "INFO:flaml.default.suggest:metafeature distance: 2.352960241834977\n",
            "[flaml.automl: 09-23 19:12:04] {162} WARNING - Starting points outside of the search space are removed. Remaining starting points: []\n",
            "WARNING:flaml.automl:Starting points outside of the search space are removed. Remaining starting points: []\n",
            "[flaml.automl: 09-23 19:12:04] {2869} INFO - List of ML learners in AutoML Run: ['xgb_limitdepth', 'lgbm', 'rf', 'xgboost', 'extra_tree']\n",
            "INFO:flaml.automl:List of ML learners in AutoML Run: ['xgb_limitdepth', 'lgbm', 'rf', 'xgboost', 'extra_tree']\n",
            "[flaml.automl: 09-23 19:12:04] {3174} INFO - iteration 0, current learner xgb_limitdepth\n",
            "INFO:flaml.automl:iteration 0, current learner xgb_limitdepth\n",
            "[flaml.automl: 09-23 19:19:01] {3308} INFO - Estimated sufficient time budget=4175092s. Estimated necessary time budget=4175s.\n",
            "INFO:flaml.automl:Estimated sufficient time budget=4175092s. Estimated necessary time budget=4175s.\n",
            "[flaml.automl: 09-23 19:19:01] {3360} INFO -  at 417.9s,\testimator xgb_limitdepth's best error=0.0171,\tbest estimator xgb_limitdepth's best error=0.0171\n",
            "INFO:flaml.automl: at 417.9s,\testimator xgb_limitdepth's best error=0.0171,\tbest estimator xgb_limitdepth's best error=0.0171\n",
            "[flaml.automl: 09-23 19:19:01] {3174} INFO - iteration 1, current learner lgbm\n",
            "INFO:flaml.automl:iteration 1, current learner lgbm\n",
            "[flaml.automl: 09-23 19:19:35] {3360} INFO -  at 451.6s,\testimator lgbm's best error=0.0177,\tbest estimator xgb_limitdepth's best error=0.0171\n",
            "INFO:flaml.automl: at 451.6s,\testimator lgbm's best error=0.0177,\tbest estimator xgb_limitdepth's best error=0.0171\n",
            "[flaml.automl: 09-23 19:19:35] {3174} INFO - iteration 2, current learner rf\n",
            "INFO:flaml.automl:iteration 2, current learner rf\n",
            "[flaml.automl: 09-23 19:19:35] {3360} INFO -  at 451.9s,\testimator rf's best error=0.2520,\tbest estimator xgb_limitdepth's best error=0.0171\n",
            "INFO:flaml.automl: at 451.9s,\testimator rf's best error=0.2520,\tbest estimator xgb_limitdepth's best error=0.0171\n",
            "[flaml.automl: 09-23 19:19:35] {3174} INFO - iteration 3, current learner xgboost\n",
            "INFO:flaml.automl:iteration 3, current learner xgboost\n",
            "[flaml.automl: 09-23 19:22:09] {3360} INFO -  at 605.8s,\testimator xgboost's best error=0.0171,\tbest estimator xgboost's best error=0.0171\n",
            "INFO:flaml.automl: at 605.8s,\testimator xgboost's best error=0.0171,\tbest estimator xgboost's best error=0.0171\n",
            "[flaml.automl: 09-23 19:22:09] {3174} INFO - iteration 4, current learner extra_tree\n",
            "INFO:flaml.automl:iteration 4, current learner extra_tree\n",
            "[flaml.automl: 09-23 19:23:56] {3360} INFO -  at 712.9s,\testimator extra_tree's best error=0.0245,\tbest estimator xgboost's best error=0.0171\n",
            "INFO:flaml.automl: at 712.9s,\testimator extra_tree's best error=0.0245,\tbest estimator xgboost's best error=0.0171\n",
            "[flaml.automl: 09-23 19:26:33] {3620} INFO - retrain xgboost for 156.7s\n",
            "INFO:flaml.automl:retrain xgboost for 156.7s\n",
            "[flaml.automl: 09-23 19:26:33] {3625} INFO - retrained model: XGBRegressor(colsample_bylevel=0.9030482524943064,\n",
            "             colsample_bytree=0.9278972006416252, grow_policy='lossguide',\n",
            "             learning_rate=0.0068766724195393905, max_depth=0, max_leaves=206,\n",
            "             min_child_weight=1.9495322566288034, n_estimators=6357, n_jobs=-1,\n",
            "             reg_alpha=0.01857648400903689, reg_lambda=6.021166480604588,\n",
            "             subsample=0.9451618245005704, tree_method='hist',\n",
            "             use_label_encoder=False, verbosity=0)\n",
            "INFO:flaml.automl:retrained model: XGBRegressor(colsample_bylevel=0.9030482524943064,\n",
            "             colsample_bytree=0.9278972006416252, grow_policy='lossguide',\n",
            "             learning_rate=0.0068766724195393905, max_depth=0, max_leaves=206,\n",
            "             min_child_weight=1.9495322566288034, n_estimators=6357, n_jobs=-1,\n",
            "             reg_alpha=0.01857648400903689, reg_lambda=6.021166480604588,\n",
            "             subsample=0.9451618245005704, tree_method='hist',\n",
            "             use_label_encoder=False, verbosity=0)\n",
            "[flaml.automl: 09-23 19:26:33] {2900} INFO - fit succeeded\n",
            "INFO:flaml.automl:fit succeeded\n",
            "[flaml.automl: 09-23 19:26:33] {2902} INFO - Time taken to find the best model: 605.8201007843018\n",
            "INFO:flaml.automl:Time taken to find the best model: 605.8201007843018\n"
          ]
        }
      ],
      "source": [
        "from flaml import AutoML \n",
        "automl_clf = AutoML()\n",
        "automl_clf.fit(x_series, y_series, task=\"regression\") "
      ]
    },
    {
      "cell_type": "code",
      "execution_count": null,
      "metadata": {
        "id": "2qWOCp7fUoEB",
        "colab": {
          "base_uri": "https://localhost:8080/",
          "height": 380
        },
        "outputId": "84aded0c-1a7e-48be-fd1a-474a84f1c328"
      },
      "outputs": [
        {
          "output_type": "error",
          "ename": "XGBoostError",
          "evalue": "ignored",
          "traceback": [
            "\u001b[0;31m---------------------------------------------------------------------------\u001b[0m",
            "\u001b[0;31mXGBoostError\u001b[0m                              Traceback (most recent call last)",
            "\u001b[0;32m<ipython-input-43-2369275fd49d>\u001b[0m in \u001b[0;36m<module>\u001b[0;34m\u001b[0m\n\u001b[1;32m     16\u001b[0m              \u001b[0mtree_method\u001b[0m\u001b[0;34m=\u001b[0m\u001b[0;34m'hist'\u001b[0m\u001b[0;34m,\u001b[0m \u001b[0muse_label_encoder\u001b[0m\u001b[0;34m=\u001b[0m\u001b[0;32mFalse\u001b[0m\u001b[0;34m,\u001b[0m \u001b[0mvalidate_parameters\u001b[0m\u001b[0;34m=\u001b[0m\u001b[0;36m1\u001b[0m\u001b[0;34m,\u001b[0m\u001b[0;34m\u001b[0m\u001b[0;34m\u001b[0m\u001b[0m\n\u001b[1;32m     17\u001b[0m              verbosity=0)\n\u001b[0;32m---> 18\u001b[0;31m \u001b[0mmodel_xgb\u001b[0m\u001b[0;34m.\u001b[0m\u001b[0mfit\u001b[0m\u001b[0;34m(\u001b[0m\u001b[0mx_series\u001b[0m\u001b[0;34m,\u001b[0m\u001b[0my_series\u001b[0m\u001b[0;34m)\u001b[0m\u001b[0;34m\u001b[0m\u001b[0;34m\u001b[0m\u001b[0m\n\u001b[0m\u001b[1;32m     19\u001b[0m \u001b[0;34m\u001b[0m\u001b[0m\n\u001b[1;32m     20\u001b[0m \u001b[0my_pred\u001b[0m \u001b[0;34m=\u001b[0m \u001b[0mmodel_xgb\u001b[0m\u001b[0;34m.\u001b[0m\u001b[0mpredict\u001b[0m\u001b[0;34m(\u001b[0m\u001b[0mX_test_series\u001b[0m\u001b[0;34m)\u001b[0m\u001b[0;34m\u001b[0m\u001b[0;34m\u001b[0m\u001b[0m\n",
            "\u001b[0;32m/usr/local/lib/python3.7/dist-packages/xgboost/sklearn.py\u001b[0m in \u001b[0;36mfit\u001b[0;34m(self, X, y, sample_weight, eval_set, eval_metric, early_stopping_rounds, verbose, xgb_model, sample_weight_eval_set, callbacks)\u001b[0m\n\u001b[1;32m    394\u001b[0m                               \u001b[0mevals_result\u001b[0m\u001b[0;34m=\u001b[0m\u001b[0mevals_result\u001b[0m\u001b[0;34m,\u001b[0m \u001b[0mobj\u001b[0m\u001b[0;34m=\u001b[0m\u001b[0mobj\u001b[0m\u001b[0;34m,\u001b[0m \u001b[0mfeval\u001b[0m\u001b[0;34m=\u001b[0m\u001b[0mfeval\u001b[0m\u001b[0;34m,\u001b[0m\u001b[0;34m\u001b[0m\u001b[0;34m\u001b[0m\u001b[0m\n\u001b[1;32m    395\u001b[0m                               \u001b[0mverbose_eval\u001b[0m\u001b[0;34m=\u001b[0m\u001b[0mverbose\u001b[0m\u001b[0;34m,\u001b[0m \u001b[0mxgb_model\u001b[0m\u001b[0;34m=\u001b[0m\u001b[0mxgb_model\u001b[0m\u001b[0;34m,\u001b[0m\u001b[0;34m\u001b[0m\u001b[0;34m\u001b[0m\u001b[0m\n\u001b[0;32m--> 396\u001b[0;31m                               callbacks=callbacks)\n\u001b[0m\u001b[1;32m    397\u001b[0m \u001b[0;34m\u001b[0m\u001b[0m\n\u001b[1;32m    398\u001b[0m         \u001b[0;32mif\u001b[0m \u001b[0mevals_result\u001b[0m\u001b[0;34m:\u001b[0m\u001b[0;34m\u001b[0m\u001b[0;34m\u001b[0m\u001b[0m\n",
            "\u001b[0;32m/usr/local/lib/python3.7/dist-packages/xgboost/training.py\u001b[0m in \u001b[0;36mtrain\u001b[0;34m(params, dtrain, num_boost_round, evals, obj, feval, maximize, early_stopping_rounds, evals_result, verbose_eval, xgb_model, callbacks, learning_rates)\u001b[0m\n\u001b[1;32m    214\u001b[0m                            \u001b[0mevals\u001b[0m\u001b[0;34m=\u001b[0m\u001b[0mevals\u001b[0m\u001b[0;34m,\u001b[0m\u001b[0;34m\u001b[0m\u001b[0;34m\u001b[0m\u001b[0m\n\u001b[1;32m    215\u001b[0m                            \u001b[0mobj\u001b[0m\u001b[0;34m=\u001b[0m\u001b[0mobj\u001b[0m\u001b[0;34m,\u001b[0m \u001b[0mfeval\u001b[0m\u001b[0;34m=\u001b[0m\u001b[0mfeval\u001b[0m\u001b[0;34m,\u001b[0m\u001b[0;34m\u001b[0m\u001b[0;34m\u001b[0m\u001b[0m\n\u001b[0;32m--> 216\u001b[0;31m                            xgb_model=xgb_model, callbacks=callbacks)\n\u001b[0m\u001b[1;32m    217\u001b[0m \u001b[0;34m\u001b[0m\u001b[0m\n\u001b[1;32m    218\u001b[0m \u001b[0;34m\u001b[0m\u001b[0m\n",
            "\u001b[0;32m/usr/local/lib/python3.7/dist-packages/xgboost/training.py\u001b[0m in \u001b[0;36m_train_internal\u001b[0;34m(params, dtrain, num_boost_round, evals, obj, feval, xgb_model, callbacks)\u001b[0m\n\u001b[1;32m     72\u001b[0m         \u001b[0;31m# Skip the first update if it is a recovery step.\u001b[0m\u001b[0;34m\u001b[0m\u001b[0;34m\u001b[0m\u001b[0;34m\u001b[0m\u001b[0m\n\u001b[1;32m     73\u001b[0m         \u001b[0;32mif\u001b[0m \u001b[0mversion\u001b[0m \u001b[0;34m%\u001b[0m \u001b[0;36m2\u001b[0m \u001b[0;34m==\u001b[0m \u001b[0;36m0\u001b[0m\u001b[0;34m:\u001b[0m\u001b[0;34m\u001b[0m\u001b[0;34m\u001b[0m\u001b[0m\n\u001b[0;32m---> 74\u001b[0;31m             \u001b[0mbst\u001b[0m\u001b[0;34m.\u001b[0m\u001b[0mupdate\u001b[0m\u001b[0;34m(\u001b[0m\u001b[0mdtrain\u001b[0m\u001b[0;34m,\u001b[0m \u001b[0mi\u001b[0m\u001b[0;34m,\u001b[0m \u001b[0mobj\u001b[0m\u001b[0;34m)\u001b[0m\u001b[0;34m\u001b[0m\u001b[0;34m\u001b[0m\u001b[0m\n\u001b[0m\u001b[1;32m     75\u001b[0m             \u001b[0mbst\u001b[0m\u001b[0;34m.\u001b[0m\u001b[0msave_rabit_checkpoint\u001b[0m\u001b[0;34m(\u001b[0m\u001b[0;34m)\u001b[0m\u001b[0;34m\u001b[0m\u001b[0;34m\u001b[0m\u001b[0m\n\u001b[1;32m     76\u001b[0m             \u001b[0mversion\u001b[0m \u001b[0;34m+=\u001b[0m \u001b[0;36m1\u001b[0m\u001b[0;34m\u001b[0m\u001b[0;34m\u001b[0m\u001b[0m\n",
            "\u001b[0;32m/usr/local/lib/python3.7/dist-packages/xgboost/core.py\u001b[0m in \u001b[0;36mupdate\u001b[0;34m(self, dtrain, iteration, fobj)\u001b[0m\n\u001b[1;32m   1107\u001b[0m         \u001b[0;32mif\u001b[0m \u001b[0mfobj\u001b[0m \u001b[0;32mis\u001b[0m \u001b[0;32mNone\u001b[0m\u001b[0;34m:\u001b[0m\u001b[0;34m\u001b[0m\u001b[0;34m\u001b[0m\u001b[0m\n\u001b[1;32m   1108\u001b[0m             _check_call(_LIB.XGBoosterUpdateOneIter(self.handle, ctypes.c_int(iteration),\n\u001b[0;32m-> 1109\u001b[0;31m                                                     dtrain.handle))\n\u001b[0m\u001b[1;32m   1110\u001b[0m         \u001b[0;32melse\u001b[0m\u001b[0;34m:\u001b[0m\u001b[0;34m\u001b[0m\u001b[0;34m\u001b[0m\u001b[0m\n\u001b[1;32m   1111\u001b[0m             \u001b[0mpred\u001b[0m \u001b[0;34m=\u001b[0m \u001b[0mself\u001b[0m\u001b[0;34m.\u001b[0m\u001b[0mpredict\u001b[0m\u001b[0;34m(\u001b[0m\u001b[0mdtrain\u001b[0m\u001b[0;34m)\u001b[0m\u001b[0;34m\u001b[0m\u001b[0;34m\u001b[0m\u001b[0m\n",
            "\u001b[0;32m/usr/local/lib/python3.7/dist-packages/xgboost/core.py\u001b[0m in \u001b[0;36m_check_call\u001b[0;34m(ret)\u001b[0m\n\u001b[1;32m    174\u001b[0m     \"\"\"\n\u001b[1;32m    175\u001b[0m     \u001b[0;32mif\u001b[0m \u001b[0mret\u001b[0m \u001b[0;34m!=\u001b[0m \u001b[0;36m0\u001b[0m\u001b[0;34m:\u001b[0m\u001b[0;34m\u001b[0m\u001b[0;34m\u001b[0m\u001b[0m\n\u001b[0;32m--> 176\u001b[0;31m         \u001b[0;32mraise\u001b[0m \u001b[0mXGBoostError\u001b[0m\u001b[0;34m(\u001b[0m\u001b[0mpy_str\u001b[0m\u001b[0;34m(\u001b[0m\u001b[0m_LIB\u001b[0m\u001b[0;34m.\u001b[0m\u001b[0mXGBGetLastError\u001b[0m\u001b[0;34m(\u001b[0m\u001b[0;34m)\u001b[0m\u001b[0;34m)\u001b[0m\u001b[0;34m)\u001b[0m\u001b[0;34m\u001b[0m\u001b[0;34m\u001b[0m\u001b[0m\n\u001b[0m\u001b[1;32m    177\u001b[0m \u001b[0;34m\u001b[0m\u001b[0m\n\u001b[1;32m    178\u001b[0m \u001b[0;34m\u001b[0m\u001b[0m\n",
            "\u001b[0;31mXGBoostError\u001b[0m: value -1 for Parameter gpu_id should be greater equal to 0"
          ]
        }
      ],
      "source": [
        "import lightgbm\n",
        "from lightgbm import LGBMRegressor\n",
        "from xgboost.sklearn import XGBRegressor\n",
        "from sklearn import metrics\n",
        "from sklearn.metrics import mean_squared_error\n",
        "\n",
        "model_xgb=XGBRegressor(base_score=0.5, booster='gbtree', colsample_bylevel=1.0,\n",
        "             colsample_bynode=1, colsample_bytree=0.8530103446108747, gamma=0,\n",
        "             gpu_id=-1, grow_policy='lossguide', importance_type='gain',\n",
        "             interaction_constraints='', learning_rate=0.06319487455916348,\n",
        "             max_delta_step=0, max_depth=0, max_leaves=357,\n",
        "             min_child_weight=79.0269954377818,\n",
        "             monotone_constraints='()', n_estimators=675, n_jobs=-1,\n",
        "             num_parallel_tree=1, random_state=0, reg_alpha=0.01792735974319558,\n",
        "             reg_lambda=1.6037247708252034, scale_pos_weight=1, subsample=1.0,\n",
        "             tree_method='hist', use_label_encoder=False, validate_parameters=1,\n",
        "             verbosity=0)\n",
        "model_xgb.fit(x_series,y_series)\n",
        "\n",
        "y_pred = model_xgb.predict(X_test_series)\n",
        "r2 = metrics.r2_score(y_test_series, y_pred)\n",
        "print(\"R2 \",r2)\n",
        "print(\"RMSE \",mean_squared_error(y_test_series, y_pred, squared=True))\n",
        "print('MAE: %.3f' % results.best_score_)\n"
      ]
    },
    {
      "cell_type": "code",
      "execution_count": null,
      "metadata": {
        "id": "ljdMgZU85Sdp"
      },
      "outputs": [],
      "source": []
    },
    {
      "cell_type": "code",
      "execution_count": null,
      "metadata": {
        "id": "ICuM2Seb5Sdq"
      },
      "outputs": [],
      "source": [
        "\n",
        "from sklearn.model_selection import GridSearchCV\n",
        "from sklearn.linear_model import Lasso\n",
        "from sklearn.model_selection import RepeatedKFold\n",
        "\n",
        "def Lassoreg():\n",
        "    model = Lasso(alpha=1.0)\n",
        "    # define model evaluation method\n",
        "    cv = RepeatedKFold(n_splits=10, n_repeats=3, random_state=1)\n",
        "    # define grid\n",
        "    grid = dict()\n",
        "    grid['alpha'] = np.arange(0, 1, 0.01)\n",
        "    # define search\n",
        "    search = GridSearchCV(model, grid, scoring='neg_mean_absolute_error', cv=cv, n_jobs=-1)\n",
        "    # perform the search\n",
        "    results = search.fit(x_series, y_series)\n",
        "    y_pred = search.predict(X_test_series)\n",
        "    r2 = metrics.r2_score(y_test_series, y_pred)\n",
        "    print(\"R2 \",r2)\n",
        "    # summarize\n",
        "    print(\"RMSE \",mean_squared_error(y_test_series, y_pred, squared=True))\n",
        "    print('MAE: %.3f' % results.best_score_)\n",
        "    print('Config: %s' % results.best_params_)\n",
        "Lassoreg()"
      ]
    },
    {
      "cell_type": "code",
      "execution_count": null,
      "metadata": {
        "id": "gUF1rhUd3tTz"
      },
      "outputs": [],
      "source": [
        "#feature importance \n",
        "indep_cols=[]\n",
        "X = df.iloc[:,[indep_cols]] #independent columns\n",
        "y = df.iloc[:,8]    #target column i.e generation\n",
        "# random forest for feature importance on a regression problem\n",
        "from sklearn.ensemble import RandomForestRegressor\n",
        "\n",
        "# define the model\n",
        "model = RandomForestRegressor()\n",
        "# fit the model\n",
        "model.fit(X,y)\n",
        "# get importance\n",
        "importance = model.feature_importances_\n",
        "importance\n",
        "# summarize feature importance\n",
        "for i,v in enumerate(importance):\n",
        "\tprint('Feature: %0d, Score: %.5f' % (i,v))\n",
        "# plot feature importance\n",
        "plt.bar([x for x in range(len(importance))], importance)\n",
        "plt.show()"
      ]
    },
    {
      "cell_type": "code",
      "execution_count": null,
      "metadata": {
        "id": "EM0tELjI80ih"
      },
      "outputs": [],
      "source": [
        "from xgboost import XGBClassifier, XGBRegressor\n",
        "xgboost_model = XGBClassifier(random_state=17, use_label_encoder=False)\n",
        "xgboost_model.get_params()"
      ]
    },
    {
      "cell_type": "code",
      "execution_count": null,
      "metadata": {
        "id": "NfyxShF69WRP"
      },
      "outputs": [],
      "source": [
        "from sklearn.model_selection import cross_validate, GridSearchCV\n",
        "cv_results = cross_validate(xgboost_model, X, y, cv=5, scoring=[\"accuracy\", \"f1\", \"roc_auc\"])"
      ]
    },
    {
      "cell_type": "code",
      "execution_count": null,
      "metadata": {
        "id": "U2WMXh6rCYHh"
      },
      "outputs": [],
      "source": [
        "!pip install flaml"
      ]
    },
    {
      "cell_type": "code",
      "execution_count": null,
      "metadata": {
        "id": "MfiJvivd7BB6"
      },
      "outputs": [],
      "source": [
        "xgboost_params = {\"learning_rate\": [0.1, 0.01],\n",
        "                  \"max_depth\": [5, 8],\n",
        "                  \"n_estimators\": [100, 500, 1000],\n",
        "                  \"colsample_bytree\": [0.7, 1]}"
      ]
    },
    {
      "cell_type": "code",
      "execution_count": null,
      "metadata": {
        "id": "DdCxnmUq7NY8"
      },
      "outputs": [],
      "source": [
        "xgboost_best_grid = GridSearchCV(xgboost_model, xgboost_params, cv=5, n_jobs=-1, verbose=True).fit(X, y)"
      ]
    },
    {
      "cell_type": "code",
      "execution_count": null,
      "metadata": {
        "id": "MsN516F07e5k"
      },
      "outputs": [],
      "source": [
        "df.head()"
      ]
    }
  ],
  "metadata": {
    "colab": {
      "collapsed_sections": [],
      "provenance": []
    },
    "kernelspec": {
      "display_name": "Python 3",
      "language": "python",
      "name": "python3"
    },
    "language_info": {
      "codemirror_mode": {
        "name": "ipython",
        "version": 3
      },
      "file_extension": ".py",
      "mimetype": "text/x-python",
      "name": "python",
      "nbconvert_exporter": "python",
      "pygments_lexer": "ipython3",
      "version": "3.8.8"
    }
  },
  "nbformat": 4,
  "nbformat_minor": 0
}